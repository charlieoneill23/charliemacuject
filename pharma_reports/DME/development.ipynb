{
 "cells": [
  {
   "cell_type": "code",
   "execution_count": 101,
   "metadata": {},
   "outputs": [],
   "source": [
    "import pandas as pd\n",
    "import numpy as np\n",
    "import datetime\n",
    "from scipy import stats\n",
    "import matplotlib.pyplot as plt\n",
    "from sklearn import datasets, linear_model\n",
    "from sklearn.metrics import mean_squared_error, r2_score\n",
    "from DataSeparator import *"
   ]
  },
  {
   "cell_type": "markdown",
   "metadata": {},
   "source": [
    "## Low vs high injection load: effect on vision"
   ]
  },
  {
   "cell_type": "code",
   "execution_count": 131,
   "metadata": {},
   "outputs": [],
   "source": [
    "class Vision:\n",
    "    \n",
    "    def __init__(self, doctor):\n",
    "        self.doctor = doctor\n",
    "        self.obj = DataSeparator(\"all\", self.doctor)\n",
    "        self.pdf_list = self.obj.patient_dataframes()\n",
    "\n",
    "    def first_year_stats(self):\n",
    "        one_dfs = list(map(self.one_year_cutoff, self.pdf_list))\n",
    "        first_year_injs = [len(pdf) for pdf in one_dfs]\n",
    "        return round(np.mean(first_year_injs),2)\n",
    "        \n",
    "    def one_year_cutoff(self, pdf):\n",
    "        pdf.reset_index(drop=True, inplace=True)\n",
    "        initiation = pdf.admission_date[0]\n",
    "        delta = datetime.timedelta(days=365)\n",
    "        cutoff = initiation + delta\n",
    "        return pdf[pdf.admission_date <= cutoff]\n",
    "    \n",
    "    def two_groups(self):\n",
    "        threshold = self.first_year_stats()\n",
    "        low, high = [], []\n",
    "        for pdf in self.pdf_list:\n",
    "            if len(self.one_year_cutoff(pdf)) < threshold:\n",
    "                low.append(pdf)\n",
    "            else: high.append(pdf)\n",
    "        return low, high\n",
    "    \n",
    "    def ovc(self, df_list):\n",
    "        ovc_list = []\n",
    "        for df in df_list:\n",
    "            df.sort_values(by=['admission_date'], inplace=True)\n",
    "            df.dropna(subset=['visual_acuity'], inplace=True)\n",
    "            visions = df['visual_acuity'].to_list()\n",
    "            ovc_list.append(visions[-1] - visions[0])\n",
    "        return ovc_list\n",
    "    \n",
    "    def test_difference(self):\n",
    "        low, high = self.two_groups()\n",
    "        ovc_low, ovc_high = self.ovc(low), self.ovc(high)\n",
    "        t, p = stats.ttest_ind(ovc_low, ovc_high)\n",
    "        return p\n",
    "    \n",
    "    def regression_data(self):\n",
    "        injs_list, ovc_list = [], []\n",
    "        for pdf in self.pdf_list:\n",
    "            injs = len(self.one_year_cutoff(pdf))\n",
    "            ovc = self.ovc([pdf])[0]\n",
    "            injs_list.append(injs), ovc_list.append(ovc)\n",
    "        return injs_list, ovc_list"
   ]
  },
  {
   "cell_type": "code",
   "execution_count": 132,
   "metadata": {},
   "outputs": [
    {
     "data": {
      "text/plain": [
       "0.0019332386020071077"
      ]
     },
     "execution_count": 132,
     "metadata": {},
     "output_type": "execute_result"
    }
   ],
   "source": [
    "thing = Vision(\"/devchau_bor.csv\")\n",
    "thing.test_difference()"
   ]
  },
  {
   "cell_type": "code",
   "execution_count": 127,
   "metadata": {},
   "outputs": [
    {
     "data": {
      "text/plain": [
       "(19.0, 56.0)"
      ]
     },
     "execution_count": 127,
     "metadata": {},
     "output_type": "execute_result"
    }
   ],
   "source": [
    "low, high = thing.two_groups()\n",
    "ovc_low, ovc_high = thing.ovc(low), thing.ovc(high)\n",
    "ovc_list = ovc_low + ovc_high\n",
    "np.max(ovc_low), np.max(ovc_high)"
   ]
  },
  {
   "cell_type": "code",
   "execution_count": 130,
   "metadata": {},
   "outputs": [
    {
     "name": "stdout",
     "output_type": "stream",
     "text": [
      "Coefficients: \n",
      " [0.90168878]\n",
      "Coefficient of determination: 0.07\n"
     ]
    },
    {
     "data": {
      "image/png": "[encoded data removed]",
      "text/plain": [
       "<Figure size 432x288 with 1 Axes>"
      ]
     },
     "metadata": {
      "needs_background": "light"
     },
     "output_type": "display_data"
    }
   ],
   "source": [
    "# get the regression date\n",
    "injs, ovc = thing.regression_data()\n",
    "injs, ovc = np.array(injs), np.array(ovc)\n",
    "injs = injs.reshape(-1, 1)\n",
    "\n",
    "# create linear regression object\n",
    "regr = linear_model.LinearRegression()\n",
    "\n",
    "# train the model\n",
    "regr.fit(injs, ovc)\n",
    "\n",
    "# make predictions\n",
    "pred_ovc = regr.predict(injs)\n",
    "\n",
    "# The coefficients\n",
    "print('Coefficients: \\n', regr.coef_)\n",
    "# The coefficient of determination: 1 is perfect prediction\n",
    "print('Coefficient of determination: %.2f'\n",
    "      % r2_score(ovc, pred_ovc))\n",
    "\n",
    "# plot outputs\n",
    "plt.scatter(injs, ovc,  color='black')\n",
    "plt.plot(injs, pred_ovc, color='blue', linewidth=3)\n",
    "plt.xlabel(\"Number of injections (first year)\")\n",
    "plt.ylabel(\"OVC (full journey)\")\n",
    "plt.show()"
   ]
  },
  {
   "cell_type": "markdown",
   "metadata": {},
   "source": [
    "## Injections by year"
   ]
  },
  {
   "cell_type": "code",
   "execution_count": 146,
   "metadata": {},
   "outputs": [],
   "source": [
    "class Interval:\n",
    "    \n",
    "    def __init__(self, doctor):\n",
    "        self.doctor = doctor\n",
    "        self.obj = DataSeparator(\"all\", self.doctor)\n",
    "        self.pdf_list = self.obj.patient_dataframes()\n",
    "    \n",
    "    def year_cutoff(self, pdf, year):\n",
    "        pdf.reset_index(drop=True, inplace=True)\n",
    "        initiation = pdf.admission_date[0]\n",
    "        delta = datetime.timedelta(days=365*year)\n",
    "        upper = initiation + delta\n",
    "        lower = initiation + datetime.timedelta(days=365*(year-1))\n",
    "        return pdf[(pdf.admission_date <= upper) & (pdf.admission_date >= lower)]\n",
    "    \n",
    "    def injection_list(self, year):\n",
    "        inj_list = []\n",
    "        for pdf in self.pdf_list:\n",
    "            pdf = self.year_cutoff(pdf, year)\n",
    "            if len(pdf) != 0: inj_list.append(len(pdf))\n",
    "        return inj_list"
   ]
  },
  {
   "cell_type": "code",
   "execution_count": 157,
   "metadata": {},
   "outputs": [
    {
     "data": {
      "text/plain": [
       "(6.711538461538462, 6.0, 1, 17)"
      ]
     },
     "execution_count": 157,
     "metadata": {},
     "output_type": "execute_result"
    }
   ],
   "source": [
    "thing = Interval(\"/ericmayer.csv\")\n",
    "inj_list = thing.injection_list(3)\n",
    "np.mean(inj_list), np.median(inj_list), np.min(inj_list), np.max(inj_list)"
   ]
  },
  {
   "cell_type": "code",
   "execution_count": null,
   "metadata": {},
   "outputs": [],
   "source": []
  }
 ],
 "metadata": {
  "kernelspec": {
   "display_name": "Python 3",
   "language": "python",
   "name": "python3"
  },
  "language_info": {
   "codemirror_mode": {
    "name": "ipython",
    "version": 3
   },
   "file_extension": ".py",
   "mimetype": "text/x-python",
   "name": "python",
   "nbconvert_exporter": "python",
   "pygments_lexer": "ipython3",
   "version": "3.8.5"
  }
 },
 "nbformat": 4,
 "nbformat_minor": 4
}
