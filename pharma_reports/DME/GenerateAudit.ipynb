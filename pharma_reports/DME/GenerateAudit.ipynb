{
 "cells": [
  {
   "cell_type": "code",
   "execution_count": 7,
   "metadata": {
    "collapsed": true
   },
   "outputs": [],
   "source": [
    "from Interval import *"
   ]
  },
  {
   "cell_type": "code",
   "execution_count": 11,
   "outputs": [
    {
     "data": {
      "text/plain": "5.326086956521739"
     },
     "execution_count": 11,
     "metadata": {},
     "output_type": "execute_result"
    }
   ],
   "source": [
    "obj = DataSeparator('all', '/devchau.csv')\n",
    "df = obj.get_df()\n",
    "df.dropna(subset=['NextInt'], inplace=True)\n",
    "df = df[df.NextInt < 14]\n",
    "np.mean(df.NextInt)"
   ],
   "metadata": {
    "collapsed": false,
    "pycharm": {
     "name": "#%%\n"
    }
   }
  },
  {
   "cell_type": "code",
   "execution_count": 12,
   "outputs": [
    {
     "data": {
      "text/plain": "<AxesSubplot:xlabel='NextInt', ylabel='Density'>"
     },
     "execution_count": 12,
     "metadata": {},
     "output_type": "execute_result"
    },
    {
     "data": {
      "text/plain": "<Figure size 432x288 with 1 Axes>",
      "image/png": "[encoded data removed]"
     },
     "metadata": {
      "needs_background": "light"
     },
     "output_type": "display_data"
    }
   ],
   "source": [
    "import seaborn as sns\n",
    "\n",
    "sns.distplot(df.NextInt)"
   ],
   "metadata": {
    "collapsed": false,
    "pycharm": {
     "name": "#%%\n"
    }
   }
  },
  {
   "cell_type": "code",
   "execution_count": 13,
   "outputs": [
    {
     "data": {
      "text/plain": "4.0     834\n8.0     182\n6.0      88\n12.0     77\n5.0      41\n10.0     21\n2.0      14\n3.0      11\n7.0       9\n1.0       4\n9.0       4\n13.0      2\n11.0      1\nName: NextInt, dtype: int64"
     },
     "execution_count": 13,
     "metadata": {},
     "output_type": "execute_result"
    }
   ],
   "source": [
    "df.NextInt.value_counts()"
   ],
   "metadata": {
    "collapsed": false,
    "pycharm": {
     "name": "#%%\n"
    }
   }
  },
  {
   "cell_type": "code",
   "execution_count": 17,
   "outputs": [
    {
     "data": {
      "text/plain": "array([nan, '3', '4', '6', '1', '0', '12', '2', '8', '10', '7', '5', '14',\n       '46', '17', '11', '16', '9', '3.5', '18', '56', '68', '23', '67',\n       '89', '45', '26', '13', '?'], dtype=object)"
     },
     "execution_count": 17,
     "metadata": {},
     "output_type": "execute_result"
    }
   ],
   "source": [
    "import pandas as pd\n",
    "\n",
    "df = pd.read_csv('/Users/charlesoneill/DataspellProjects/charliemacuject/pharma_reports/data/DME/ericmayer.csv')\n",
    "df.NextInt.unique()"
   ],
   "metadata": {
    "collapsed": false,
    "pycharm": {
     "name": "#%%\n"
    }
   }
  },
  {
   "cell_type": "code",
   "execution_count": 18,
   "outputs": [
    {
     "data": {
      "text/plain": "2143"
     },
     "execution_count": 18,
     "metadata": {},
     "output_type": "execute_result"
    }
   ],
   "source": [
    "len(df)"
   ],
   "metadata": {
    "collapsed": false,
    "pycharm": {
     "name": "#%%\n"
    }
   }
  },
  {
   "cell_type": "code",
   "execution_count": 19,
   "outputs": [],
   "source": [
    "df = df[df.NextInt != '?']"
   ],
   "metadata": {
    "collapsed": false,
    "pycharm": {
     "name": "#%%\n"
    }
   }
  },
  {
   "cell_type": "code",
   "execution_count": 20,
   "outputs": [
    {
     "data": {
      "text/plain": "2142"
     },
     "execution_count": 20,
     "metadata": {},
     "output_type": "execute_result"
    }
   ],
   "source": [
    "len(df)"
   ],
   "metadata": {
    "collapsed": false,
    "pycharm": {
     "name": "#%%\n"
    }
   }
  },
  {
   "cell_type": "code",
   "execution_count": 21,
   "outputs": [],
   "source": [
    "df.to_csv('/Users/charlesoneill/DataspellProjects/charliemacuject/pharma_reports/data/DME/ericmayer.csv')"
   ],
   "metadata": {
    "collapsed": false,
    "pycharm": {
     "name": "#%%\n"
    }
   }
  },
  {
   "cell_type": "code",
   "execution_count": 22,
   "outputs": [
    {
     "data": {
      "text/plain": "2142"
     },
     "execution_count": 22,
     "metadata": {},
     "output_type": "execute_result"
    }
   ],
   "source": [
    "df = pd.read_csv('/Users/charlesoneill/DataspellProjects/charliemacuject/pharma_reports/data/DME/ericmayer.csv')\n",
    "len(df)"
   ],
   "metadata": {
    "collapsed": false,
    "pycharm": {
     "name": "#%%\n"
    }
   }
  },
  {
   "cell_type": "code",
   "execution_count": 19,
   "outputs": [],
   "source": [
    "from Utilisation import *\n",
    "\n",
    "obj = DataSeparator('all', '/ericmayer.csv')\n",
    "pdf_list = obj.patient_dataframes()"
   ],
   "metadata": {
    "collapsed": false,
    "pycharm": {
     "name": "#%%\n"
    }
   }
  },
  {
   "cell_type": "code",
   "execution_count": 14,
   "outputs": [],
   "source": [
    "def avgf_steroids(pdf_list, num_visits, drug_name):\n",
    "    avgf_list = ['Lucentis', 'Avastin', 'Eylea']\n",
    "    steroid_list = ['Ozurdex', 'Triesence', 'Kenalog', 'Kenacort', 'IVTA']\n",
    "    drugs_list = []\n",
    "    for pdf in pdf_list:\n",
    "        count = 0\n",
    "        if len(pdf) > num_visits:\n",
    "            for i in range(len(pdf)):\n",
    "                while count < num_visits:\n",
    "                    drug = pdf['Drug'].iloc[i]\n",
    "                    if drug in avgf_list:\n",
    "                        drugs_list.append('Anti-VEGF')\n",
    "                    if drug in steroid_list:\n",
    "                        drugs_list.append('Steroid')\n",
    "                    count += 1\n",
    "                    i += 1\n",
    "    count_drug = drugs_list.count(drug_name)\n",
    "    return count_drug"
   ],
   "metadata": {
    "collapsed": false,
    "pycharm": {
     "name": "#%%\n"
    }
   }
  },
  {
   "cell_type": "code",
   "execution_count": 15,
   "outputs": [],
   "source": [
    "def all_vgf_steroid(pdf_list, visit_num, drug_name):\n",
    "    counts = []\n",
    "    for i in range(1, visit_num+1):\n",
    "        average_drug = avgf_steroids(pdf_list, i, drug_name)\n",
    "        counts.append(average_drug)\n",
    "    return counts"
   ],
   "metadata": {
    "collapsed": false,
    "pycharm": {
     "name": "#%%\n"
    }
   }
  },
  {
   "cell_type": "code",
   "execution_count": 16,
   "outputs": [],
   "source": [
    "def plot_avgf_steroid(pdf_list):\n",
    "    w, y = all_vgf_steroid(pdf_list, 100, 'Anti-VEGF'), all_vgf_steroid(pdf_list, 100, 'Steroid')\n",
    "    matplotlib.rcParams['font.size'] = 18\n",
    "    x = list(range(1, 101))\n",
    "    fig = plt.figure(figsize=(12, 7))\n",
    "    ax = plt.axes()\n",
    "    ax.set(xlabel='Visit Number', ylabel='Number of Injections Using Drug')\n",
    "    ax.plot(x, w, label='Anti-VEGF', color='orange')\n",
    "    ax.plot(x, y, label='Steroid', color='#187bcd')\n",
    "    ax.legend(loc='lower left')\n",
    "    right_side = ax.spines[\"right\"]\n",
    "    left_side = ax.spines['left']\n",
    "    top_side = ax.spines['top']\n",
    "    right_side.set_visible(False)\n",
    "    left_side.set_visible(False)\n",
    "    top_side.set_visible(False)\n",
    "    plt.savefig('ut_plot.png', dpi=300, bbox_inches='tight')"
   ],
   "metadata": {
    "collapsed": false,
    "pycharm": {
     "name": "#%%\n"
    }
   }
  },
  {
   "cell_type": "code",
   "execution_count": 20,
   "outputs": [
    {
     "data": {
      "text/plain": "<Figure size 864x504 with 1 Axes>",
      "image/png": "[encoded data removed]"
     },
     "metadata": {
      "needs_background": "light"
     },
     "output_type": "display_data"
    }
   ],
   "source": [
    "plot_avgf_steroid(pdf_list)"
   ],
   "metadata": {
    "collapsed": false,
    "pycharm": {
     "name": "#%%\n"
    }
   }
  },
  {
   "cell_type": "code",
   "execution_count": null,
   "outputs": [],
   "source": [],
   "metadata": {
    "collapsed": false,
    "pycharm": {
     "name": "#%%\n"
    }
   }
  }
 ],
 "metadata": {
  "kernelspec": {
   "display_name": "Python 3",
   "language": "python",
   "name": "python3"
  },
  "language_info": {
   "codemirror_mode": {
    "name": "ipython",
    "version": 2
   },
   "file_extension": ".py",
   "mimetype": "text/x-python",
   "name": "python",
   "nbconvert_exporter": "python",
   "pygments_lexer": "ipython2",
   "version": "2.7.6"
  }
 },
 "nbformat": 4,
 "nbformat_minor": 0
}