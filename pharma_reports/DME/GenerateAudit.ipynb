{
 "cells": [
  {
   "cell_type": "code",
   "execution_count": 49,
   "metadata": {
    "collapsed": true
   },
   "outputs": [],
   "source": [
    "from Vision import *"
   ]
  },
  {
   "cell_type": "code",
   "execution_count": 52,
   "outputs": [
    {
     "ename": "AttributeError",
     "evalue": "'Vision' object has no attribute 'doctor_path'",
     "output_type": "error",
     "traceback": [
      "\u001B[0;31m---------------------------------------------------------------------------\u001B[0m",
      "\u001B[0;31mAttributeError\u001B[0m                            Traceback (most recent call last)",
      "\u001B[0;32m<ipython-input-52-b34658786f2c>\u001B[0m in \u001B[0;36m<module>\u001B[0;34m\u001B[0m\n\u001B[1;32m      1\u001B[0m \u001B[0mobj\u001B[0m \u001B[0;34m=\u001B[0m \u001B[0mVision\u001B[0m\u001B[0;34m(\u001B[0m\u001B[0;34m'all'\u001B[0m\u001B[0;34m,\u001B[0m \u001B[0;34m'/devchau.csv'\u001B[0m\u001B[0;34m)\u001B[0m\u001B[0;34m\u001B[0m\u001B[0;34m\u001B[0m\u001B[0m\n\u001B[0;32m----> 2\u001B[0;31m \u001B[0mobj\u001B[0m\u001B[0;34m.\u001B[0m\u001B[0mresults_table\u001B[0m\u001B[0;34m(\u001B[0m\u001B[0;34m)\u001B[0m\u001B[0;34m\u001B[0m\u001B[0;34m\u001B[0m\u001B[0m\n\u001B[0m",
      "\u001B[0;32m~/DataspellProjects/charliemacuject/pharma_reports/DME/Vision.py\u001B[0m in \u001B[0;36mresults_table\u001B[0;34m(self)\u001B[0m\n\u001B[1;32m    216\u001B[0m         \u001B[0mReturns\u001B[0m \u001B[0ma\u001B[0m \u001B[0mdataframe\u001B[0m \u001B[0mof\u001B[0m \u001B[0mresults\u001B[0m \u001B[0;32mfor\u001B[0m \u001B[0mall\u001B[0m \u001B[0mvisual\u001B[0m \u001B[0mmetrics\u001B[0m\u001B[0;34m.\u001B[0m\u001B[0;34m\u001B[0m\u001B[0;34m\u001B[0m\u001B[0m\n\u001B[1;32m    217\u001B[0m         \u001B[0mInput\u001B[0m\u001B[0;34m:\u001B[0m \u001B[0mself\u001B[0m\u001B[0;34m.\u001B[0m\u001B[0;34m\u001B[0m\u001B[0;34m\u001B[0m\u001B[0m\n\u001B[0;32m--> 218\u001B[0;31m         \u001B[0mOutput\u001B[0m\u001B[0;34m:\u001B[0m \u001B[0mPandas\u001B[0m \u001B[0mdataframe\u001B[0m\u001B[0;34m.\u001B[0m\u001B[0;34m\u001B[0m\u001B[0;34m\u001B[0m\u001B[0m\n\u001B[0m\u001B[1;32m    219\u001B[0m         \"\"\"\n\u001B[1;32m    220\u001B[0m         \u001B[0mnames\u001B[0m \u001B[0;34m=\u001B[0m \u001B[0;34m[\u001B[0m\u001B[0;34m'aVGF'\u001B[0m\u001B[0;34m,\u001B[0m \u001B[0;34m'Steroid'\u001B[0m\u001B[0;34m,\u001B[0m \u001B[0;34m'Both(aVGF,Steroid)'\u001B[0m\u001B[0;34m,\u001B[0m \u001B[0;34m'Improved'\u001B[0m\u001B[0;34m,\u001B[0m \u001B[0;34m'Not_Improved'\u001B[0m\u001B[0;34m,\u001B[0m \u001B[0;34m'Overall'\u001B[0m\u001B[0;34m]\u001B[0m\u001B[0;34m\u001B[0m\u001B[0;34m\u001B[0m\u001B[0m\n",
      "\u001B[0;32m~/DataspellProjects/charliemacuject/pharma_reports/DME/DataSeparator.py\u001B[0m in \u001B[0;36mget_dataframes\u001B[0;34m(self)\u001B[0m\n\u001B[1;32m     93\u001B[0m             \u001B[0mimproved\u001B[0m\u001B[0;34m,\u001B[0m \u001B[0mnot_improved\u001B[0m\u001B[0;34m,\u001B[0m \u001B[0moverall\u001B[0m \u001B[0;34m=\u001B[0m \u001B[0mself\u001B[0m\u001B[0;34m.\u001B[0m\u001B[0mimproved_df_separator\u001B[0m\u001B[0;34m(\u001B[0m\u001B[0;34m)\u001B[0m\u001B[0;34m\u001B[0m\u001B[0;34m\u001B[0m\u001B[0m\n\u001B[1;32m     94\u001B[0m             \u001B[0;32mreturn\u001B[0m \u001B[0;34m[\u001B[0m\u001B[0mimproved\u001B[0m\u001B[0;34m,\u001B[0m \u001B[0mnot_improved\u001B[0m\u001B[0;34m,\u001B[0m \u001B[0moverall\u001B[0m\u001B[0;34m]\u001B[0m\u001B[0;34m\u001B[0m\u001B[0;34m\u001B[0m\u001B[0m\n\u001B[0;32m---> 95\u001B[0;31m         \u001B[0;32melif\u001B[0m \u001B[0mself\u001B[0m\u001B[0;34m.\u001B[0m\u001B[0mdf_list\u001B[0m \u001B[0;34m==\u001B[0m \u001B[0;34m'all'\u001B[0m\u001B[0;34m:\u001B[0m\u001B[0;34m\u001B[0m\u001B[0;34m\u001B[0m\u001B[0m\n\u001B[0m\u001B[1;32m     96\u001B[0m             \u001B[0mavgf_df\u001B[0m\u001B[0;34m,\u001B[0m \u001B[0msteroid_df\u001B[0m\u001B[0;34m,\u001B[0m \u001B[0mboth_df\u001B[0m \u001B[0;34m=\u001B[0m \u001B[0mself\u001B[0m\u001B[0;34m.\u001B[0m\u001B[0msteroid_df_separator\u001B[0m\u001B[0;34m(\u001B[0m\u001B[0;34m)\u001B[0m\u001B[0;34m\u001B[0m\u001B[0;34m\u001B[0m\u001B[0m\n\u001B[1;32m     97\u001B[0m             \u001B[0mimproved\u001B[0m\u001B[0;34m,\u001B[0m \u001B[0mnot_improved\u001B[0m\u001B[0;34m,\u001B[0m \u001B[0moverall\u001B[0m \u001B[0;34m=\u001B[0m \u001B[0mself\u001B[0m\u001B[0;34m.\u001B[0m\u001B[0mimproved_df_separator\u001B[0m\u001B[0;34m(\u001B[0m\u001B[0;34m)\u001B[0m\u001B[0;34m\u001B[0m\u001B[0;34m\u001B[0m\u001B[0m\n",
      "\u001B[0;32m~/DataspellProjects/charliemacuject/pharma_reports/DME/DataSeparator.py\u001B[0m in \u001B[0;36msteroid_df_separator\u001B[0;34m(self)\u001B[0m\n\u001B[1;32m    130\u001B[0m \u001B[0;34m\u001B[0m\u001B[0m\n\u001B[1;32m    131\u001B[0m     \u001B[0;32mdef\u001B[0m \u001B[0msteroid_df_separator\u001B[0m\u001B[0;34m(\u001B[0m\u001B[0mself\u001B[0m\u001B[0;34m)\u001B[0m\u001B[0;34m:\u001B[0m\u001B[0;34m\u001B[0m\u001B[0;34m\u001B[0m\u001B[0m\n\u001B[0;32m--> 132\u001B[0;31m         \"\"\"\n\u001B[0m\u001B[1;32m    133\u001B[0m         \u001B[0mProduces\u001B[0m \u001B[0ma\u001B[0m \u001B[0mlist\u001B[0m \u001B[0mof\u001B[0m \u001B[0mdataframes\u001B[0m \u001B[0mbased\u001B[0m \u001B[0msteroid\u001B[0m\u001B[0;34m,\u001B[0m \u001B[0manti\u001B[0m\u001B[0;34m-\u001B[0m\u001B[0mVEGF\u001B[0m \u001B[0;32mor\u001B[0m \u001B[0mboth\u001B[0m\u001B[0;34m.\u001B[0m\u001B[0;34m\u001B[0m\u001B[0;34m\u001B[0m\u001B[0m\n\u001B[1;32m    134\u001B[0m         \u001B[0mInput\u001B[0m\u001B[0;34m:\u001B[0m \u001B[0mself\u001B[0m\u001B[0;34m.\u001B[0m\u001B[0;34m\u001B[0m\u001B[0;34m\u001B[0m\u001B[0m\n",
      "\u001B[0;32m~/DataspellProjects/charliemacuject/pharma_reports/DME/DataSeparator.py\u001B[0m in \u001B[0;36mget_df\u001B[0;34m(self, drop_drug_na)\u001B[0m\n\u001B[1;32m     64\u001B[0m         \u001B[0mInput\u001B[0m\u001B[0;34m:\u001B[0m \u001B[0mBool\u001B[0m\u001B[0;34m.\u001B[0m\u001B[0;34m\u001B[0m\u001B[0;34m\u001B[0m\u001B[0m\n\u001B[1;32m     65\u001B[0m         \u001B[0mOutput\u001B[0m\u001B[0;34m:\u001B[0m \u001B[0mPandas\u001B[0m \u001B[0mdataframe\u001B[0m\u001B[0;34m.\u001B[0m\u001B[0;34m\u001B[0m\u001B[0;34m\u001B[0m\u001B[0m\n\u001B[0;32m---> 66\u001B[0;31m         \"\"\"\n\u001B[0m\u001B[1;32m     67\u001B[0m         \u001B[0mdf\u001B[0m \u001B[0;34m=\u001B[0m \u001B[0mpd\u001B[0m\u001B[0;34m.\u001B[0m\u001B[0mread_csv\u001B[0m\u001B[0;34m(\u001B[0m\u001B[0mself\u001B[0m\u001B[0;34m.\u001B[0m\u001B[0mdoctor_path\u001B[0m\u001B[0;34m)\u001B[0m\u001B[0;34m\u001B[0m\u001B[0;34m\u001B[0m\u001B[0m\n\u001B[1;32m     68\u001B[0m         \u001B[0mdf\u001B[0m\u001B[0;34m.\u001B[0m\u001B[0mdropna\u001B[0m\u001B[0;34m(\u001B[0m\u001B[0msubset\u001B[0m\u001B[0;34m=\u001B[0m\u001B[0;34m[\u001B[0m\u001B[0;34m'visual_acuity'\u001B[0m\u001B[0;34m]\u001B[0m\u001B[0;34m,\u001B[0m \u001B[0minplace\u001B[0m\u001B[0;34m=\u001B[0m\u001B[0;32mTrue\u001B[0m\u001B[0;34m)\u001B[0m\u001B[0;34m\u001B[0m\u001B[0;34m\u001B[0m\u001B[0m\n",
      "\u001B[0;31mAttributeError\u001B[0m: 'Vision' object has no attribute 'doctor_path'"
     ]
    }
   ],
   "source": [
    "obj = Vision('all', '/devchau.csv')\n",
    "obj.results_table()"
   ],
   "metadata": {
    "collapsed": false,
    "pycharm": {
     "name": "#%%\n"
    }
   }
  },
  {
   "cell_type": "code",
   "execution_count": null,
   "outputs": [],
   "source": [],
   "metadata": {
    "collapsed": false,
    "pycharm": {
     "name": "#%%\n"
    }
   }
  }
 ],
 "metadata": {
  "kernelspec": {
   "display_name": "Python 3",
   "language": "python",
   "name": "python3"
  },
  "language_info": {
   "codemirror_mode": {
    "name": "ipython",
    "version": 2
   },
   "file_extension": ".py",
   "mimetype": "text/x-python",
   "name": "python",
   "nbconvert_exporter": "python",
   "pygments_lexer": "ipython2",
   "version": "2.7.6"
  }
 },
 "nbformat": 4,
 "nbformat_minor": 0
}