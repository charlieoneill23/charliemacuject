{
 "cells": [
  {
   "cell_type": "code",
   "execution_count": 1,
   "id": "12df3b65",
   "metadata": {},
   "outputs": [],
   "source": [
    "import pandas as pd\n",
    "import numpy as np\n",
    "import warnings\n",
    "warnings.filterwarnings('ignore')"
   ]
  },
  {
   "cell_type": "code",
   "execution_count": 24,
   "id": "c5c9bda9",
   "metadata": {},
   "outputs": [],
   "source": [
    "#df = pd.read_csv('/home/jupyter/charliemacuject/pharma_reports/data/DME/brendanvote.csv')\n",
    "df.rename(columns={'filenumber': 'id', 'Appoinment Date': 'CreatedDate'}, inplace=True)\n",
    "new_df = id_cleaner(df)\n",
    "#new_df.drop(columns=['Unnamed: 0', 'Unnamed: 0.1'], inplace = True)\n",
    "ndf = time_sort(new_df)\n",
    "ndf.to_csv('/home/jupyter/charliemacuject/pharma_reports/data/DME/brendanvote.csv')"
   ]
  },
  {
   "cell_type": "code",
   "execution_count": 22,
   "id": "cebadc5e",
   "metadata": {},
   "outputs": [],
   "source": [
    "def id_cleaner(df):\n",
    "    id_list = df.id.unique()\n",
    "    frames = []\n",
    "    i = 0\n",
    "    for eye in id_list:\n",
    "        pdf = df[df.id == eye]\n",
    "        pdf_left = pdf[pdf.Laterality == 'Left']\n",
    "        pdf_right = pdf[pdf.Laterality == 'Right']\n",
    "        pdf_left.id = i\n",
    "        pdf_right.id = i + 1\n",
    "        i += 2\n",
    "        if len(pdf_left) != 0:\n",
    "            frames.append(pdf_left)\n",
    "        if len(pdf_right) != 0:\n",
    "            frames.append(pdf_right)\n",
    "    return pd.concat(frames)"
   ]
  },
  {
   "cell_type": "code",
   "execution_count": 23,
   "id": "a4c72a32",
   "metadata": {},
   "outputs": [],
   "source": [
    "def time_sort(df):\n",
    "    id_list = df.id.unique()\n",
    "    frames = []\n",
    "    for eye in id_list:\n",
    "        pdf = df[df.id == eye]\n",
    "        pdf.CreatedDate = pd.to_datetime(pdf.CreatedDate, dayfirst=True)\n",
    "        pdf.sort_values(by='CreatedDate', inplace=True)\n",
    "        frames.append(pdf)\n",
    "    return pd.concat(frames)"
   ]
  },
  {
   "cell_type": "code",
   "execution_count": 27,
   "id": "7b4f2214",
   "metadata": {},
   "outputs": [],
   "source": [
    "#ndf = time_sort(df)\n",
    "ndf.to_csv('/home/jupyter/charliemacuject/pharma_reports/data/DME/brendanvote.csv')"
   ]
  },
  {
   "cell_type": "code",
   "execution_count": 20,
   "id": "d0145b22",
   "metadata": {},
   "outputs": [
    {
     "data": {
      "text/plain": [
       "2644"
      ]
     },
     "execution_count": 20,
     "metadata": {},
     "output_type": "execute_result"
    }
   ],
   "source": [
    "# create a list of our conditions\n",
    "conditions = [\n",
    "    (df['type'] == 'LUCEN'),\n",
    "    (df['type'] == 'EYLEA'),\n",
    "    (df['type'] == 'AVAST'),\n",
    "    (df['type'] == 'IVT') | (df['type'] == 'IVTR'),\n",
    "    (df['type'] == 'TRI'),\n",
    "    ]\n",
    "\n",
    "# create a list of the values we want to assign for each condition\n",
    "values = ['Lucentis', 'Eylea', 'Avastin', 'IVTA', 'Triesence']\n",
    "\n",
    "# create a new column and use np.select to assign values to it using our lists as arguments\n",
    "df['Drug'] = np.select(conditions, values)\n",
    "\n",
    "# display updated DataFrame\n",
    "df = df[df.Drug != '0']\n",
    "len(df)"
   ]
  },
  {
   "cell_type": "code",
   "execution_count": 28,
   "id": "2a9c3fd7",
   "metadata": {},
   "outputs": [],
   "source": [
    "df = pd.read_csv('/home/jupyter/charliemacuject/pharma_reports/data/DME/brendanvote.csv')"
   ]
  },
  {
   "cell_type": "code",
   "execution_count": 29,
   "id": "e3f59588",
   "metadata": {},
   "outputs": [
    {
     "data": {
      "text/plain": [
       "Index(['Unnamed: 0', 'Unnamed: 0.1', 'id', 'type', 'CreatedDate', 'IDDM/NIDDM',\n",
       "       'VA', 'old_drug', 'Laterality', 'Diagnosis Date?', 'bookingid',\n",
       "       'Location', 'Procedure Laterality', 'Comments', 'Drug'],\n",
       "      dtype='object')"
      ]
     },
     "execution_count": 29,
     "metadata": {},
     "output_type": "execute_result"
    }
   ],
   "source": [
    "df.columns"
   ]
  },
  {
   "cell_type": "code",
   "execution_count": 30,
   "id": "ca02125d",
   "metadata": {},
   "outputs": [
    {
     "data": {
      "text/html": [
       "<div>\n",
       "<style scoped>\n",
       "    .dataframe tbody tr th:only-of-type {\n",
       "        vertical-align: middle;\n",
       "    }\n",
       "\n",
       "    .dataframe tbody tr th {\n",
       "        vertical-align: top;\n",
       "    }\n",
       "\n",
       "    .dataframe thead th {\n",
       "        text-align: right;\n",
       "    }\n",
       "</style>\n",
       "<table border=\"1\" class=\"dataframe\">\n",
       "  <thead>\n",
       "    <tr style=\"text-align: right;\">\n",
       "      <th></th>\n",
       "      <th>Unnamed: 0</th>\n",
       "      <th>Unnamed: 0.1</th>\n",
       "      <th>id</th>\n",
       "      <th>type</th>\n",
       "      <th>CreatedDate</th>\n",
       "      <th>IDDM/NIDDM</th>\n",
       "      <th>visual_acuity</th>\n",
       "      <th>old_drug</th>\n",
       "      <th>Laterality</th>\n",
       "      <th>Diagnosis Date?</th>\n",
       "      <th>bookingid</th>\n",
       "      <th>Location</th>\n",
       "      <th>Procedure Laterality</th>\n",
       "      <th>Comments</th>\n",
       "      <th>Drug</th>\n",
       "    </tr>\n",
       "  </thead>\n",
       "  <tbody>\n",
       "    <tr>\n",
       "      <th>0</th>\n",
       "      <td>1</td>\n",
       "      <td>3249</td>\n",
       "      <td>0</td>\n",
       "      <td>LUCEN</td>\n",
       "      <td>2017-04-20</td>\n",
       "      <td>IDDM</td>\n",
       "      <td>74.8</td>\n",
       "      <td>NaN</td>\n",
       "      <td>Left</td>\n",
       "      <td>29/10/2019</td>\n",
       "      <td>634534.0</td>\n",
       "      <td>Launceston Eye Institute ULVERSTONE</td>\n",
       "      <td>NaN</td>\n",
       "      <td>NaN</td>\n",
       "      <td>Lucentis</td>\n",
       "    </tr>\n",
       "    <tr>\n",
       "      <th>1</th>\n",
       "      <td>2</td>\n",
       "      <td>3250</td>\n",
       "      <td>0</td>\n",
       "      <td>LUCEN</td>\n",
       "      <td>2017-05-18</td>\n",
       "      <td>IDDM</td>\n",
       "      <td>NaN</td>\n",
       "      <td>NaN</td>\n",
       "      <td>Left</td>\n",
       "      <td>29/10/2019</td>\n",
       "      <td>634552.0</td>\n",
       "      <td>Launceston Eye Institute ULVERSTONE</td>\n",
       "      <td>NaN</td>\n",
       "      <td>NaN</td>\n",
       "      <td>Lucentis</td>\n",
       "    </tr>\n",
       "    <tr>\n",
       "      <th>2</th>\n",
       "      <td>14</td>\n",
       "      <td>3262</td>\n",
       "      <td>0</td>\n",
       "      <td>LUCEN</td>\n",
       "      <td>2020-02-13</td>\n",
       "      <td>IDDM</td>\n",
       "      <td>70.0</td>\n",
       "      <td>Lucentis</td>\n",
       "      <td>Left</td>\n",
       "      <td>29/10/2019</td>\n",
       "      <td>834712.0</td>\n",
       "      <td>Launceston Eye Institute ULVERSTONE</td>\n",
       "      <td>Left</td>\n",
       "      <td>NaN</td>\n",
       "      <td>Lucentis</td>\n",
       "    </tr>\n",
       "    <tr>\n",
       "      <th>3</th>\n",
       "      <td>15</td>\n",
       "      <td>3263</td>\n",
       "      <td>0</td>\n",
       "      <td>LUCEN</td>\n",
       "      <td>2020-03-23</td>\n",
       "      <td>IDDM</td>\n",
       "      <td>NaN</td>\n",
       "      <td>Lucentis</td>\n",
       "      <td>Left</td>\n",
       "      <td>29/10/2019</td>\n",
       "      <td>842479.0</td>\n",
       "      <td>Launceston Eye Institute ULVERSTONE</td>\n",
       "      <td>Left</td>\n",
       "      <td>NaN</td>\n",
       "      <td>Lucentis</td>\n",
       "    </tr>\n",
       "    <tr>\n",
       "      <th>4</th>\n",
       "      <td>19</td>\n",
       "      <td>3267</td>\n",
       "      <td>0</td>\n",
       "      <td>EYLEA</td>\n",
       "      <td>2020-10-15</td>\n",
       "      <td>IDDM</td>\n",
       "      <td>70.0</td>\n",
       "      <td>Eylea</td>\n",
       "      <td>Left</td>\n",
       "      <td>29/10/2019</td>\n",
       "      <td>896354.0</td>\n",
       "      <td>Launceston Eye Institute ULVERSTONE</td>\n",
       "      <td>Left</td>\n",
       "      <td>NaN</td>\n",
       "      <td>Eylea</td>\n",
       "    </tr>\n",
       "  </tbody>\n",
       "</table>\n",
       "</div>"
      ],
      "text/plain": [
       "   Unnamed: 0  Unnamed: 0.1  id   type CreatedDate IDDM/NIDDM  visual_acuity  \\\n",
       "0           1          3249   0  LUCEN  2017-04-20       IDDM           74.8   \n",
       "1           2          3250   0  LUCEN  2017-05-18       IDDM            NaN   \n",
       "2          14          3262   0  LUCEN  2020-02-13       IDDM           70.0   \n",
       "3          15          3263   0  LUCEN  2020-03-23       IDDM            NaN   \n",
       "4          19          3267   0  EYLEA  2020-10-15       IDDM           70.0   \n",
       "\n",
       "   old_drug Laterality Diagnosis Date?  bookingid  \\\n",
       "0       NaN       Left      29/10/2019   634534.0   \n",
       "1       NaN       Left      29/10/2019   634552.0   \n",
       "2  Lucentis       Left      29/10/2019   834712.0   \n",
       "3  Lucentis       Left      29/10/2019   842479.0   \n",
       "4     Eylea       Left      29/10/2019   896354.0   \n",
       "\n",
       "                              Location Procedure Laterality Comments      Drug  \n",
       "0  Launceston Eye Institute ULVERSTONE                  NaN      NaN  Lucentis  \n",
       "1  Launceston Eye Institute ULVERSTONE                  NaN      NaN  Lucentis  \n",
       "2  Launceston Eye Institute ULVERSTONE                 Left      NaN  Lucentis  \n",
       "3  Launceston Eye Institute ULVERSTONE                 Left      NaN  Lucentis  \n",
       "4  Launceston Eye Institute ULVERSTONE                 Left      NaN     Eylea  "
      ]
     },
     "execution_count": 30,
     "metadata": {},
     "output_type": "execute_result"
    }
   ],
   "source": [
    "df.rename(columns={'VA': 'visual_acuity'}, inplace=True)\n",
    "df.head()"
   ]
  },
  {
   "cell_type": "code",
   "execution_count": 31,
   "id": "659eeaa7",
   "metadata": {},
   "outputs": [],
   "source": [
    "df.to_csv('/home/jupyter/charliemacuject/pharma_reports/data/DME/brendanvote.csv')"
   ]
  },
  {
   "cell_type": "code",
   "execution_count": null,
   "id": "2db031de",
   "metadata": {},
   "outputs": [],
   "source": []
  }
 ],
 "metadata": {
  "environment": {
   "name": "common-cu110.m74",
   "type": "gcloud",
   "uri": "gcr.io/deeplearning-platform-release/base-cu110:m74"
  },
  "kernelspec": {
   "display_name": "Python 3",
   "language": "python",
   "name": "python3"
  },
  "language_info": {
   "codemirror_mode": {
    "name": "ipython",
    "version": 3
   },
   "file_extension": ".py",
   "mimetype": "text/x-python",
   "name": "python",
   "nbconvert_exporter": "python",
   "pygments_lexer": "ipython3",
   "version": "3.7.10"
  }
 },
 "nbformat": 4,
 "nbformat_minor": 5
}
