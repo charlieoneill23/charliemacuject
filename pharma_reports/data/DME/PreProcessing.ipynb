{
 "cells": [
  {
   "cell_type": "code",
   "execution_count": 1,
   "id": "73be82ec",
   "metadata": {},
   "outputs": [],
   "source": [
    "import pandas as pd\n",
    "import numpy as np\n",
    "import warnings\n",
    "warnings.filterwarnings('ignore')"
   ]
  },
  {
   "cell_type": "code",
   "execution_count": 9,
   "id": "3a20c027",
   "metadata": {},
   "outputs": [
    {
     "ename": "AttributeError",
     "evalue": "'DataFrame' object has no attribute 'CreatedDate'",
     "output_type": "error",
     "traceback": [
      "\u001b[0;31m---------------------------------------------------------------------------\u001b[0m",
      "\u001b[0;31mAttributeError\u001b[0m                            Traceback (most recent call last)",
      "\u001b[0;32m<ipython-input-9-c6b91c1200b7>\u001b[0m in \u001b[0;36m<module>\u001b[0;34m\u001b[0m\n\u001b[1;32m      3\u001b[0m \u001b[0mnew_df\u001b[0m \u001b[0;34m=\u001b[0m \u001b[0mid_cleaner\u001b[0m\u001b[0;34m(\u001b[0m\u001b[0mdf\u001b[0m\u001b[0;34m)\u001b[0m\u001b[0;34m\u001b[0m\u001b[0;34m\u001b[0m\u001b[0m\n\u001b[1;32m      4\u001b[0m \u001b[0;31m#new_df.drop(columns=['Unnamed: 0', 'Unnamed: 0.1'], inplace = True)\u001b[0m\u001b[0;34m\u001b[0m\u001b[0;34m\u001b[0m\u001b[0;34m\u001b[0m\u001b[0m\n\u001b[0;32m----> 5\u001b[0;31m \u001b[0mndf\u001b[0m \u001b[0;34m=\u001b[0m \u001b[0mtime_sort\u001b[0m\u001b[0;34m(\u001b[0m\u001b[0mnew_df\u001b[0m\u001b[0;34m)\u001b[0m\u001b[0;34m\u001b[0m\u001b[0;34m\u001b[0m\u001b[0m\n\u001b[0m\u001b[1;32m      6\u001b[0m \u001b[0;31m#ndf.to_csv('/home/jupyter/charliemacuject/pharma_reports/data/DME/brendanvote.csv')\u001b[0m\u001b[0;34m\u001b[0m\u001b[0;34m\u001b[0m\u001b[0;34m\u001b[0m\u001b[0m\n",
      "\u001b[0;32m<ipython-input-6-e367f81fc6b5>\u001b[0m in \u001b[0;36mtime_sort\u001b[0;34m(df)\u001b[0m\n\u001b[1;32m      4\u001b[0m     \u001b[0;32mfor\u001b[0m \u001b[0meye\u001b[0m \u001b[0;32min\u001b[0m \u001b[0mid_list\u001b[0m\u001b[0;34m:\u001b[0m\u001b[0;34m\u001b[0m\u001b[0;34m\u001b[0m\u001b[0m\n\u001b[1;32m      5\u001b[0m         \u001b[0mpdf\u001b[0m \u001b[0;34m=\u001b[0m \u001b[0mdf\u001b[0m\u001b[0;34m[\u001b[0m\u001b[0mdf\u001b[0m\u001b[0;34m.\u001b[0m\u001b[0mid\u001b[0m \u001b[0;34m==\u001b[0m \u001b[0meye\u001b[0m\u001b[0;34m]\u001b[0m\u001b[0;34m\u001b[0m\u001b[0;34m\u001b[0m\u001b[0m\n\u001b[0;32m----> 6\u001b[0;31m         \u001b[0mpdf\u001b[0m\u001b[0;34m.\u001b[0m\u001b[0mCreatedDate\u001b[0m \u001b[0;34m=\u001b[0m \u001b[0mpd\u001b[0m\u001b[0;34m.\u001b[0m\u001b[0mto_datetime\u001b[0m\u001b[0;34m(\u001b[0m\u001b[0mpdf\u001b[0m\u001b[0;34m.\u001b[0m\u001b[0mCreatedDate\u001b[0m\u001b[0;34m,\u001b[0m \u001b[0mdayfirst\u001b[0m\u001b[0;34m=\u001b[0m\u001b[0;32mTrue\u001b[0m\u001b[0;34m)\u001b[0m\u001b[0;34m\u001b[0m\u001b[0;34m\u001b[0m\u001b[0m\n\u001b[0m\u001b[1;32m      7\u001b[0m         \u001b[0mpdf\u001b[0m\u001b[0;34m.\u001b[0m\u001b[0msort_values\u001b[0m\u001b[0;34m(\u001b[0m\u001b[0mby\u001b[0m\u001b[0;34m=\u001b[0m\u001b[0;34m'CreatedDate'\u001b[0m\u001b[0;34m,\u001b[0m \u001b[0minplace\u001b[0m\u001b[0;34m=\u001b[0m\u001b[0;32mTrue\u001b[0m\u001b[0;34m)\u001b[0m\u001b[0;34m\u001b[0m\u001b[0;34m\u001b[0m\u001b[0m\n\u001b[1;32m      8\u001b[0m         \u001b[0mframes\u001b[0m\u001b[0;34m.\u001b[0m\u001b[0mappend\u001b[0m\u001b[0;34m(\u001b[0m\u001b[0mpdf\u001b[0m\u001b[0;34m)\u001b[0m\u001b[0;34m\u001b[0m\u001b[0;34m\u001b[0m\u001b[0m\n",
      "\u001b[0;32m/opt/conda/lib/python3.7/site-packages/pandas/core/generic.py\u001b[0m in \u001b[0;36m__getattr__\u001b[0;34m(self, name)\u001b[0m\n\u001b[1;32m   5463\u001b[0m             \u001b[0;32mif\u001b[0m \u001b[0mself\u001b[0m\u001b[0;34m.\u001b[0m\u001b[0m_info_axis\u001b[0m\u001b[0;34m.\u001b[0m\u001b[0m_can_hold_identifiers_and_holds_name\u001b[0m\u001b[0;34m(\u001b[0m\u001b[0mname\u001b[0m\u001b[0;34m)\u001b[0m\u001b[0;34m:\u001b[0m\u001b[0;34m\u001b[0m\u001b[0;34m\u001b[0m\u001b[0m\n\u001b[1;32m   5464\u001b[0m                 \u001b[0;32mreturn\u001b[0m \u001b[0mself\u001b[0m\u001b[0;34m[\u001b[0m\u001b[0mname\u001b[0m\u001b[0;34m]\u001b[0m\u001b[0;34m\u001b[0m\u001b[0;34m\u001b[0m\u001b[0m\n\u001b[0;32m-> 5465\u001b[0;31m             \u001b[0;32mreturn\u001b[0m \u001b[0mobject\u001b[0m\u001b[0;34m.\u001b[0m\u001b[0m__getattribute__\u001b[0m\u001b[0;34m(\u001b[0m\u001b[0mself\u001b[0m\u001b[0;34m,\u001b[0m \u001b[0mname\u001b[0m\u001b[0;34m)\u001b[0m\u001b[0;34m\u001b[0m\u001b[0;34m\u001b[0m\u001b[0m\n\u001b[0m\u001b[1;32m   5466\u001b[0m \u001b[0;34m\u001b[0m\u001b[0m\n\u001b[1;32m   5467\u001b[0m     \u001b[0;32mdef\u001b[0m \u001b[0m__setattr__\u001b[0m\u001b[0;34m(\u001b[0m\u001b[0mself\u001b[0m\u001b[0;34m,\u001b[0m \u001b[0mname\u001b[0m\u001b[0;34m:\u001b[0m \u001b[0mstr\u001b[0m\u001b[0;34m,\u001b[0m \u001b[0mvalue\u001b[0m\u001b[0;34m)\u001b[0m \u001b[0;34m->\u001b[0m \u001b[0;32mNone\u001b[0m\u001b[0;34m:\u001b[0m\u001b[0;34m\u001b[0m\u001b[0;34m\u001b[0m\u001b[0m\n",
      "\u001b[0;31mAttributeError\u001b[0m: 'DataFrame' object has no attribute 'CreatedDate'"
     ]
    }
   ],
   "source": [
    "df = pd.read_csv('/home/jupyter/charliemacuject/pharma_reports/data/eric_mayer.csv')\n",
    "#df.rename(columns={'File #': 'id'}, inplace=True)\n",
    "new_df = id_cleaner(df)\n",
    "#new_df.drop(columns=['Unnamed: 0', 'Unnamed: 0.1'], inplace = True)\n",
    "ndf = time_sort(new_df)\n",
    "#ndf.to_csv('/home/jupyter/charliemacuject/pharma_reports/data/DME/brendanvote.csv')"
   ]
  },
  {
   "cell_type": "code",
   "execution_count": 8,
   "id": "110a0103",
   "metadata": {},
   "outputs": [
    {
     "data": {
      "text/html": [
       "<div>\n",
       "<style scoped>\n",
       "    .dataframe tbody tr th:only-of-type {\n",
       "        vertical-align: middle;\n",
       "    }\n",
       "\n",
       "    .dataframe tbody tr th {\n",
       "        vertical-align: top;\n",
       "    }\n",
       "\n",
       "    .dataframe thead th {\n",
       "        text-align: right;\n",
       "    }\n",
       "</style>\n",
       "<table border=\"1\" class=\"dataframe\">\n",
       "  <thead>\n",
       "    <tr style=\"text-align: right;\">\n",
       "      <th></th>\n",
       "      <th>Unnamed: 0</th>\n",
       "      <th>Unnamed: 0.1</th>\n",
       "      <th>id</th>\n",
       "      <th>admission_date</th>\n",
       "      <th>DoctorName</th>\n",
       "      <th>visual_acuity</th>\n",
       "      <th>Drug</th>\n",
       "      <th>InjNext</th>\n",
       "      <th>NextInt</th>\n",
       "      <th>Laterality</th>\n",
       "      <th>Interval</th>\n",
       "    </tr>\n",
       "  </thead>\n",
       "  <tbody>\n",
       "    <tr>\n",
       "      <th>0</th>\n",
       "      <td>286</td>\n",
       "      <td>1393</td>\n",
       "      <td>1</td>\n",
       "      <td>2019-08-10</td>\n",
       "      <td>Dr. Eric Mayer</td>\n",
       "      <td>89.0</td>\n",
       "      <td>NaN</td>\n",
       "      <td>NaN</td>\n",
       "      <td>NaN</td>\n",
       "      <td>Right</td>\n",
       "      <td>0.0</td>\n",
       "    </tr>\n",
       "    <tr>\n",
       "      <th>1</th>\n",
       "      <td>287</td>\n",
       "      <td>1394</td>\n",
       "      <td>1</td>\n",
       "      <td>2019-08-10</td>\n",
       "      <td>Dr. Eric Mayer</td>\n",
       "      <td>NaN</td>\n",
       "      <td>Lucentis</td>\n",
       "      <td>Lucentis</td>\n",
       "      <td>4.0</td>\n",
       "      <td>Right</td>\n",
       "      <td>0.0</td>\n",
       "    </tr>\n",
       "    <tr>\n",
       "      <th>2</th>\n",
       "      <td>288</td>\n",
       "      <td>1395</td>\n",
       "      <td>1</td>\n",
       "      <td>2019-10-29</td>\n",
       "      <td>Dr. Eric Mayer</td>\n",
       "      <td>85.0</td>\n",
       "      <td>Lucentis</td>\n",
       "      <td>Lucentis</td>\n",
       "      <td>4.0</td>\n",
       "      <td>Right</td>\n",
       "      <td>11.0</td>\n",
       "    </tr>\n",
       "    <tr>\n",
       "      <th>3</th>\n",
       "      <td>289</td>\n",
       "      <td>1396</td>\n",
       "      <td>1</td>\n",
       "      <td>2019-11-26</td>\n",
       "      <td>Dr. Eric Mayer</td>\n",
       "      <td>85.0</td>\n",
       "      <td>Lucentis</td>\n",
       "      <td>Lucentis</td>\n",
       "      <td>6.0</td>\n",
       "      <td>Right</td>\n",
       "      <td>4.0</td>\n",
       "    </tr>\n",
       "    <tr>\n",
       "      <th>4</th>\n",
       "      <td>290</td>\n",
       "      <td>1397</td>\n",
       "      <td>1</td>\n",
       "      <td>2020-01-14</td>\n",
       "      <td>Dr. Eric Mayer</td>\n",
       "      <td>85.0</td>\n",
       "      <td>Lucentis</td>\n",
       "      <td>Lucentis</td>\n",
       "      <td>7.0</td>\n",
       "      <td>Right</td>\n",
       "      <td>7.0</td>\n",
       "    </tr>\n",
       "  </tbody>\n",
       "</table>\n",
       "</div>"
      ],
      "text/plain": [
       "   Unnamed: 0  Unnamed: 0.1  id admission_date      DoctorName  visual_acuity  \\\n",
       "0         286          1393   1     2019-08-10  Dr. Eric Mayer           89.0   \n",
       "1         287          1394   1     2019-08-10  Dr. Eric Mayer            NaN   \n",
       "2         288          1395   1     2019-10-29  Dr. Eric Mayer           85.0   \n",
       "3         289          1396   1     2019-11-26  Dr. Eric Mayer           85.0   \n",
       "4         290          1397   1     2020-01-14  Dr. Eric Mayer           85.0   \n",
       "\n",
       "       Drug   InjNext  NextInt Laterality  Interval  \n",
       "0       NaN       NaN      NaN      Right       0.0  \n",
       "1  Lucentis  Lucentis      4.0      Right       0.0  \n",
       "2  Lucentis  Lucentis      4.0      Right      11.0  \n",
       "3  Lucentis  Lucentis      6.0      Right       4.0  \n",
       "4  Lucentis  Lucentis      7.0      Right       7.0  "
      ]
     },
     "execution_count": 8,
     "metadata": {},
     "output_type": "execute_result"
    }
   ],
   "source": [
    "new_df.head()"
   ]
  },
  {
   "cell_type": "code",
   "execution_count": 73,
   "id": "07e639a8",
   "metadata": {},
   "outputs": [
    {
     "data": {
      "text/plain": [
       "1973"
      ]
     },
     "execution_count": 73,
     "metadata": {},
     "output_type": "execute_result"
    }
   ],
   "source": [
    "ndf['visual_acuity'].isna().sum()"
   ]
  },
  {
   "cell_type": "code",
   "execution_count": 5,
   "id": "daf7c88d",
   "metadata": {},
   "outputs": [],
   "source": [
    "def id_cleaner(df):\n",
    "    id_list = df.id.unique()\n",
    "    frames = []\n",
    "    i = 0\n",
    "    for eye in id_list:\n",
    "        pdf = df[df.id == eye]\n",
    "        pdf_left = pdf[pdf.Laterality == 'Left']\n",
    "        pdf_right = pdf[pdf.Laterality == 'Right']\n",
    "        pdf_left.id = i\n",
    "        pdf_right.id = i + 1\n",
    "        i += 2\n",
    "        if len(pdf_left) != 0:\n",
    "            frames.append(pdf_left)\n",
    "        if len(pdf_right) != 0:\n",
    "            frames.append(pdf_right)\n",
    "    return pd.concat(frames)"
   ]
  },
  {
   "cell_type": "code",
   "execution_count": 6,
   "id": "d71330c8",
   "metadata": {},
   "outputs": [],
   "source": [
    "def time_sort(df):\n",
    "    id_list = df.id.unique()\n",
    "    frames = []\n",
    "    for eye in id_list:\n",
    "        pdf = df[df.id == eye]\n",
    "        pdf.CreatedDate = pd.to_datetime(pdf.CreatedDate, dayfirst=True)\n",
    "        pdf.sort_values(by='CreatedDate', inplace=True)\n",
    "        frames.append(pdf)\n",
    "    return pd.concat(frames)"
   ]
  },
  {
   "cell_type": "code",
   "execution_count": 10,
   "id": "7c88fc71",
   "metadata": {},
   "outputs": [],
   "source": [
    "#ndf = time_sort(df)\n",
    "new_df.to_csv('/home/jupyter/charliemacuject/pharma_reports/data/eric_mayer.csv')"
   ]
  },
  {
   "cell_type": "code",
   "execution_count": 69,
   "id": "5827bc1a",
   "metadata": {},
   "outputs": [
    {
     "data": {
      "text/plain": [
       "3638"
      ]
     },
     "execution_count": 69,
     "metadata": {},
     "output_type": "execute_result"
    }
   ],
   "source": [
    "df = pd.read_csv('/home/jupyter/charliemacuject/pharma_reports/data/DME/brendanvoteOLD.csv')\n",
    "df.rename(columns={'Appointment Type': 'type', 'Appoinment Date': 'CreatedDate', \n",
    "                   'VA': 'visual_acuity'}, inplace=True)\n",
    "len(df)"
   ]
  },
  {
   "cell_type": "code",
   "execution_count": 56,
   "id": "540ca795",
   "metadata": {},
   "outputs": [
    {
     "data": {
      "text/plain": [
       "1973"
      ]
     },
     "execution_count": 56,
     "metadata": {},
     "output_type": "execute_result"
    }
   ],
   "source": [
    "df['visual_acuity'].isna().sum()"
   ]
  },
  {
   "cell_type": "code",
   "execution_count": 65,
   "id": "d52300d4",
   "metadata": {},
   "outputs": [
    {
     "data": {
      "text/plain": [
       "array(['1    ', 'LUCEN', 'IVT  ', 'IVTR ', '2', 'LSR  ', 'EME  ', 'EYLEA',\n",
       "       'AMD  ', 'Oper ', 'po1  ', 'por  ', '2REV ', 'CP   ', 'AMDR ',\n",
       "       'BIO', 'poc  ', 'LOC  ', 'catrv', 'IU', 'PO1P ', 'POCP ', 'PREO ',\n",
       "       'FFA  ', 'FFA2 ', 'AUSS ', 'po   ', 'AVAST', 'DNA'], dtype=object)"
      ]
     },
     "execution_count": 65,
     "metadata": {},
     "output_type": "execute_result"
    }
   ],
   "source": [
    "df.type.unique()"
   ]
  },
  {
   "cell_type": "code",
   "execution_count": 70,
   "id": "9023c7ac",
   "metadata": {},
   "outputs": [
    {
     "data": {
      "text/plain": [
       "3638"
      ]
     },
     "execution_count": 70,
     "metadata": {},
     "output_type": "execute_result"
    }
   ],
   "source": [
    "# create a list of our conditions\n",
    "conditions = [\n",
    "    (df['type'] == 'LUCEN'),\n",
    "    (df['type'] == 'EYLEA'),\n",
    "    (df['type'] == 'AVAST'),\n",
    "    (df['type'] == 'IVT  '),\n",
    "    (df['type'] == 'IVTR '),\n",
    "    (df['type'] == 'TRI'),\n",
    "    ]\n",
    "\n",
    "# create a list of the values we want to assign for each condition\n",
    "values = ['Lucentis', 'Eylea', 'Avastin', 'IVTA', 'IVTA', 'Triesence']\n",
    "\n",
    "# create a new column and use np.select to assign values to it using our lists as arguments\n",
    "df['Drug'] = np.select(conditions, values)\n",
    "\n",
    "# display updated DataFrame\n",
    "# df = df[df.Drug != '0']\n",
    "len(df)"
   ]
  },
  {
   "cell_type": "code",
   "execution_count": 71,
   "id": "30fe08cd",
   "metadata": {},
   "outputs": [
    {
     "data": {
      "text/html": [
       "<div>\n",
       "<style scoped>\n",
       "    .dataframe tbody tr th:only-of-type {\n",
       "        vertical-align: middle;\n",
       "    }\n",
       "\n",
       "    .dataframe tbody tr th {\n",
       "        vertical-align: top;\n",
       "    }\n",
       "\n",
       "    .dataframe thead th {\n",
       "        text-align: right;\n",
       "    }\n",
       "</style>\n",
       "<table border=\"1\" class=\"dataframe\">\n",
       "  <thead>\n",
       "    <tr style=\"text-align: right;\">\n",
       "      <th></th>\n",
       "      <th>File #</th>\n",
       "      <th>type</th>\n",
       "      <th>CreatedDate</th>\n",
       "      <th>IDDM/NIDDM</th>\n",
       "      <th>visual_acuity</th>\n",
       "      <th>Drug</th>\n",
       "      <th>Laterality</th>\n",
       "      <th>Diagnosis Date?</th>\n",
       "    </tr>\n",
       "  </thead>\n",
       "  <tbody>\n",
       "    <tr>\n",
       "      <th>0</th>\n",
       "      <td>46186</td>\n",
       "      <td>1</td>\n",
       "      <td>20/04/2017</td>\n",
       "      <td>IDDM</td>\n",
       "      <td>70.0</td>\n",
       "      <td>0</td>\n",
       "      <td>Right</td>\n",
       "      <td>20/04/2017</td>\n",
       "    </tr>\n",
       "    <tr>\n",
       "      <th>1</th>\n",
       "      <td>46186</td>\n",
       "      <td>LUCEN</td>\n",
       "      <td>20/04/2017</td>\n",
       "      <td>IDDM</td>\n",
       "      <td>70.0</td>\n",
       "      <td>Lucentis</td>\n",
       "      <td>Right</td>\n",
       "      <td>20/04/2017</td>\n",
       "    </tr>\n",
       "    <tr>\n",
       "      <th>2</th>\n",
       "      <td>46186</td>\n",
       "      <td>LUCEN</td>\n",
       "      <td>18/05/2017</td>\n",
       "      <td>IDDM</td>\n",
       "      <td>NaN</td>\n",
       "      <td>Lucentis</td>\n",
       "      <td>Right</td>\n",
       "      <td>20/04/2017</td>\n",
       "    </tr>\n",
       "    <tr>\n",
       "      <th>3</th>\n",
       "      <td>46186</td>\n",
       "      <td>IVT</td>\n",
       "      <td>08/06/2017</td>\n",
       "      <td>IDDM</td>\n",
       "      <td>70.0</td>\n",
       "      <td>IVTA</td>\n",
       "      <td>Right</td>\n",
       "      <td>20/04/2017</td>\n",
       "    </tr>\n",
       "    <tr>\n",
       "      <th>4</th>\n",
       "      <td>46186</td>\n",
       "      <td>IVT</td>\n",
       "      <td>10/08/2017</td>\n",
       "      <td>IDDM</td>\n",
       "      <td>74.8</td>\n",
       "      <td>IVTA</td>\n",
       "      <td>Right</td>\n",
       "      <td>20/04/2017</td>\n",
       "    </tr>\n",
       "  </tbody>\n",
       "</table>\n",
       "</div>"
      ],
      "text/plain": [
       "   File #   type CreatedDate IDDM/NIDDM  visual_acuity      Drug Laterality  \\\n",
       "0   46186  1      20/04/2017       IDDM           70.0         0      Right   \n",
       "1   46186  LUCEN  20/04/2017       IDDM           70.0  Lucentis      Right   \n",
       "2   46186  LUCEN  18/05/2017       IDDM            NaN  Lucentis      Right   \n",
       "3   46186  IVT    08/06/2017       IDDM           70.0      IVTA      Right   \n",
       "4   46186  IVT    10/08/2017       IDDM           74.8      IVTA      Right   \n",
       "\n",
       "  Diagnosis Date?  \n",
       "0      20/04/2017  \n",
       "1      20/04/2017  \n",
       "2      20/04/2017  \n",
       "3      20/04/2017  \n",
       "4      20/04/2017  "
      ]
     },
     "execution_count": 71,
     "metadata": {},
     "output_type": "execute_result"
    }
   ],
   "source": [
    "df.head()"
   ]
  },
  {
   "cell_type": "code",
   "execution_count": 54,
   "id": "4dc94a2f",
   "metadata": {},
   "outputs": [
    {
     "data": {
      "text/plain": [
       "1973"
      ]
     },
     "execution_count": 54,
     "metadata": {},
     "output_type": "execute_result"
    }
   ],
   "source": [
    "df['visual_acuity'].isna().sum()"
   ]
  },
  {
   "cell_type": "code",
   "execution_count": 33,
   "id": "e2e2c162",
   "metadata": {},
   "outputs": [
    {
     "data": {
      "text/plain": [
       "Index(['File #', 'Appointment Type', 'Appoinment Date', 'IDDM/NIDDM', 'VA',\n",
       "       'Drug', 'Laterality', 'Diagnosis Date?'],\n",
       "      dtype='object')"
      ]
     },
     "execution_count": 33,
     "metadata": {},
     "output_type": "execute_result"
    }
   ],
   "source": [
    "df.columns"
   ]
  },
  {
   "cell_type": "code",
   "execution_count": 30,
   "id": "0b494361",
   "metadata": {},
   "outputs": [
    {
     "data": {
      "text/html": [
       "<div>\n",
       "<style scoped>\n",
       "    .dataframe tbody tr th:only-of-type {\n",
       "        vertical-align: middle;\n",
       "    }\n",
       "\n",
       "    .dataframe tbody tr th {\n",
       "        vertical-align: top;\n",
       "    }\n",
       "\n",
       "    .dataframe thead th {\n",
       "        text-align: right;\n",
       "    }\n",
       "</style>\n",
       "<table border=\"1\" class=\"dataframe\">\n",
       "  <thead>\n",
       "    <tr style=\"text-align: right;\">\n",
       "      <th></th>\n",
       "      <th>Unnamed: 0</th>\n",
       "      <th>Unnamed: 0.1</th>\n",
       "      <th>id</th>\n",
       "      <th>type</th>\n",
       "      <th>CreatedDate</th>\n",
       "      <th>IDDM/NIDDM</th>\n",
       "      <th>visual_acuity</th>\n",
       "      <th>old_drug</th>\n",
       "      <th>Laterality</th>\n",
       "      <th>Diagnosis Date?</th>\n",
       "      <th>bookingid</th>\n",
       "      <th>Location</th>\n",
       "      <th>Procedure Laterality</th>\n",
       "      <th>Comments</th>\n",
       "      <th>Drug</th>\n",
       "    </tr>\n",
       "  </thead>\n",
       "  <tbody>\n",
       "    <tr>\n",
       "      <th>0</th>\n",
       "      <td>1</td>\n",
       "      <td>3249</td>\n",
       "      <td>0</td>\n",
       "      <td>LUCEN</td>\n",
       "      <td>2017-04-20</td>\n",
       "      <td>IDDM</td>\n",
       "      <td>74.8</td>\n",
       "      <td>NaN</td>\n",
       "      <td>Left</td>\n",
       "      <td>29/10/2019</td>\n",
       "      <td>634534.0</td>\n",
       "      <td>Launceston Eye Institute ULVERSTONE</td>\n",
       "      <td>NaN</td>\n",
       "      <td>NaN</td>\n",
       "      <td>Lucentis</td>\n",
       "    </tr>\n",
       "    <tr>\n",
       "      <th>1</th>\n",
       "      <td>2</td>\n",
       "      <td>3250</td>\n",
       "      <td>0</td>\n",
       "      <td>LUCEN</td>\n",
       "      <td>2017-05-18</td>\n",
       "      <td>IDDM</td>\n",
       "      <td>NaN</td>\n",
       "      <td>NaN</td>\n",
       "      <td>Left</td>\n",
       "      <td>29/10/2019</td>\n",
       "      <td>634552.0</td>\n",
       "      <td>Launceston Eye Institute ULVERSTONE</td>\n",
       "      <td>NaN</td>\n",
       "      <td>NaN</td>\n",
       "      <td>Lucentis</td>\n",
       "    </tr>\n",
       "    <tr>\n",
       "      <th>2</th>\n",
       "      <td>14</td>\n",
       "      <td>3262</td>\n",
       "      <td>0</td>\n",
       "      <td>LUCEN</td>\n",
       "      <td>2020-02-13</td>\n",
       "      <td>IDDM</td>\n",
       "      <td>70.0</td>\n",
       "      <td>Lucentis</td>\n",
       "      <td>Left</td>\n",
       "      <td>29/10/2019</td>\n",
       "      <td>834712.0</td>\n",
       "      <td>Launceston Eye Institute ULVERSTONE</td>\n",
       "      <td>Left</td>\n",
       "      <td>NaN</td>\n",
       "      <td>Lucentis</td>\n",
       "    </tr>\n",
       "    <tr>\n",
       "      <th>3</th>\n",
       "      <td>15</td>\n",
       "      <td>3263</td>\n",
       "      <td>0</td>\n",
       "      <td>LUCEN</td>\n",
       "      <td>2020-03-23</td>\n",
       "      <td>IDDM</td>\n",
       "      <td>NaN</td>\n",
       "      <td>Lucentis</td>\n",
       "      <td>Left</td>\n",
       "      <td>29/10/2019</td>\n",
       "      <td>842479.0</td>\n",
       "      <td>Launceston Eye Institute ULVERSTONE</td>\n",
       "      <td>Left</td>\n",
       "      <td>NaN</td>\n",
       "      <td>Lucentis</td>\n",
       "    </tr>\n",
       "    <tr>\n",
       "      <th>4</th>\n",
       "      <td>19</td>\n",
       "      <td>3267</td>\n",
       "      <td>0</td>\n",
       "      <td>EYLEA</td>\n",
       "      <td>2020-10-15</td>\n",
       "      <td>IDDM</td>\n",
       "      <td>70.0</td>\n",
       "      <td>Eylea</td>\n",
       "      <td>Left</td>\n",
       "      <td>29/10/2019</td>\n",
       "      <td>896354.0</td>\n",
       "      <td>Launceston Eye Institute ULVERSTONE</td>\n",
       "      <td>Left</td>\n",
       "      <td>NaN</td>\n",
       "      <td>Eylea</td>\n",
       "    </tr>\n",
       "  </tbody>\n",
       "</table>\n",
       "</div>"
      ],
      "text/plain": [
       "   Unnamed: 0  Unnamed: 0.1  id   type CreatedDate IDDM/NIDDM  visual_acuity  \\\n",
       "0           1          3249   0  LUCEN  2017-04-20       IDDM           74.8   \n",
       "1           2          3250   0  LUCEN  2017-05-18       IDDM            NaN   \n",
       "2          14          3262   0  LUCEN  2020-02-13       IDDM           70.0   \n",
       "3          15          3263   0  LUCEN  2020-03-23       IDDM            NaN   \n",
       "4          19          3267   0  EYLEA  2020-10-15       IDDM           70.0   \n",
       "\n",
       "   old_drug Laterality Diagnosis Date?  bookingid  \\\n",
       "0       NaN       Left      29/10/2019   634534.0   \n",
       "1       NaN       Left      29/10/2019   634552.0   \n",
       "2  Lucentis       Left      29/10/2019   834712.0   \n",
       "3  Lucentis       Left      29/10/2019   842479.0   \n",
       "4     Eylea       Left      29/10/2019   896354.0   \n",
       "\n",
       "                              Location Procedure Laterality Comments      Drug  \n",
       "0  Launceston Eye Institute ULVERSTONE                  NaN      NaN  Lucentis  \n",
       "1  Launceston Eye Institute ULVERSTONE                  NaN      NaN  Lucentis  \n",
       "2  Launceston Eye Institute ULVERSTONE                 Left      NaN  Lucentis  \n",
       "3  Launceston Eye Institute ULVERSTONE                 Left      NaN  Lucentis  \n",
       "4  Launceston Eye Institute ULVERSTONE                 Left      NaN     Eylea  "
      ]
     },
     "execution_count": 30,
     "metadata": {},
     "output_type": "execute_result"
    }
   ],
   "source": [
    "df.rename(columns={VA': 'visual_acuity'}, inplace=True)\n",
    "df.head()"
   ]
  },
  {
   "cell_type": "code",
   "execution_count": 31,
   "id": "a168f883",
   "metadata": {},
   "outputs": [],
   "source": [
    "df.to_csv('/home/jupyter/charliemacuject/pharma_reports/data/DME/brendanvote.csv')"
   ]
  },
  {
   "cell_type": "code",
   "execution_count": null,
   "id": "c0bed546",
   "metadata": {},
   "outputs": [],
   "source": []
  }
 ],
 "metadata": {
  "environment": {
   "name": "common-cu110.m74",
   "type": "gcloud",
   "uri": "gcr.io/deeplearning-platform-release/base-cu110:m74"
  },
  "kernelspec": {
   "display_name": "Python 3",
   "language": "python",
   "name": "python3"
  },
  "language_info": {
   "codemirror_mode": {
    "name": "ipython",
    "version": 3
   },
   "file_extension": ".py",
   "mimetype": "text/x-python",
   "name": "python",
   "nbconvert_exporter": "python",
   "pygments_lexer": "ipython3",
   "version": "3.7.10"
  }
 },
 "nbformat": 4,
 "nbformat_minor": 5
}
