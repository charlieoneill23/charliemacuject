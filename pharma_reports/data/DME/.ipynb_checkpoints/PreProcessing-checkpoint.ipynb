{
 "cells": [
  {
   "cell_type": "code",
   "execution_count": 1,
   "id": "85d9f7a3",
   "metadata": {},
   "outputs": [],
   "source": [
    "import pandas as pd\n",
    "import numpy as np\n",
    "import warnings\n",
    "warnings.filterwarnings('ignore')"
   ]
  },
  {
   "cell_type": "code",
   "execution_count": 24,
   "id": "2e7db99d",
   "metadata": {},
   "outputs": [],
   "source": [
    "#df = pd.read_csv('/home/jupyter/charliemacuject/pharma_reports/data/DME/brendanvote.csv')\n",
    "df.rename(columns={'filenumber': 'id', 'Appoinment Date': 'CreatedDate'}, inplace=True)\n",
    "new_df = id_cleaner(df)\n",
    "#new_df.drop(columns=['Unnamed: 0', 'Unnamed: 0.1'], inplace = True)\n",
    "ndf = time_sort(new_df)\n",
    "ndf.to_csv('/home/jupyter/charliemacuject/pharma_reports/data/DME/brendanvote.csv')"
   ]
  },
  {
   "cell_type": "code",
   "execution_count": 22,
   "id": "2867f82a",
   "metadata": {},
   "outputs": [],
   "source": [
    "def id_cleaner(df):\n",
    "    id_list = df.id.unique()\n",
    "    frames = []\n",
    "    i = 0\n",
    "    for eye in id_list:\n",
    "        pdf = df[df.id == eye]\n",
    "        pdf_left = pdf[pdf.Laterality == 'Left']\n",
    "        pdf_right = pdf[pdf.Laterality == 'Right']\n",
    "        pdf_left.id = i\n",
    "        pdf_right.id = i + 1\n",
    "        i += 2\n",
    "        if len(pdf_left) != 0:\n",
    "            frames.append(pdf_left)\n",
    "        if len(pdf_right) != 0:\n",
    "            frames.append(pdf_right)\n",
    "    return pd.concat(frames)"
   ]
  },
  {
   "cell_type": "code",
   "execution_count": 23,
   "id": "e114b82e",
   "metadata": {},
   "outputs": [],
   "source": [
    "def time_sort(df):\n",
    "    id_list = df.id.unique()\n",
    "    frames = []\n",
    "    for eye in id_list:\n",
    "        pdf = df[df.id == eye]\n",
    "        pdf.CreatedDate = pd.to_datetime(pdf.CreatedDate, dayfirst=True)\n",
    "        pdf.sort_values(by='CreatedDate', inplace=True)\n",
    "        frames.append(pdf)\n",
    "    return pd.concat(frames)"
   ]
  },
  {
   "cell_type": "code",
   "execution_count": 27,
   "id": "0e1636b7",
   "metadata": {},
   "outputs": [],
   "source": [
    "#ndf = time_sort(df)\n",
    "ndf.to_csv('/home/jupyter/charliemacuject/pharma_reports/data/DME/brendanvote.csv')"
   ]
  },
  {
   "cell_type": "code",
   "execution_count": 20,
   "id": "e5e3add4",
   "metadata": {},
   "outputs": [
    {
     "data": {
      "text/plain": [
       "2644"
      ]
     },
     "execution_count": 20,
     "metadata": {},
     "output_type": "execute_result"
    }
   ],
   "source": [
    "# create a list of our conditions\n",
    "conditions = [\n",
    "    (df['type'] == 'LUCEN'),\n",
    "    (df['type'] == 'EYLEA'),\n",
    "    (df['type'] == 'AVAST'),\n",
    "    (df['type'] == 'IVT') | (df['type'] == 'IVTR'),\n",
    "    (df['type'] == 'TRI'),\n",
    "    ]\n",
    "\n",
    "# create a list of the values we want to assign for each condition\n",
    "values = ['Lucentis', 'Eylea', 'Avastin', 'IVTA', 'Triesence']\n",
    "\n",
    "# create a new column and use np.select to assign values to it using our lists as arguments\n",
    "df['Drug'] = np.select(conditions, values)\n",
    "\n",
    "# display updated DataFrame\n",
    "df = df[df.Drug != '0']\n",
    "len(df)"
   ]
  },
  {
   "cell_type": "code",
   "execution_count": null,
   "id": "7fac535d",
   "metadata": {},
   "outputs": [],
   "source": []
  }
 ],
 "metadata": {
  "environment": {
   "name": "common-cu110.m74",
   "type": "gcloud",
   "uri": "gcr.io/deeplearning-platform-release/base-cu110:m74"
  },
  "kernelspec": {
   "display_name": "Python 3",
   "language": "python",
   "name": "python3"
  },
  "language_info": {
   "codemirror_mode": {
    "name": "ipython",
    "version": 3
   },
   "file_extension": ".py",
   "mimetype": "text/x-python",
   "name": "python",
   "nbconvert_exporter": "python",
   "pygments_lexer": "ipython3",
   "version": "3.7.10"
  }
 },
 "nbformat": 4,
 "nbformat_minor": 5
}
