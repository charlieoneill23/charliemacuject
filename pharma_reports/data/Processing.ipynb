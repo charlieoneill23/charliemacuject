{
 "cells": [
  {
   "cell_type": "code",
   "execution_count": 4,
   "id": "53f59802",
   "metadata": {},
   "outputs": [],
   "source": [
    "import pandas as pd\n",
    "import numpy as np\n",
    "import warnings\n",
    "warnings.filterwarnings('ignore')"
   ]
  },
  {
   "cell_type": "code",
   "execution_count": 14,
   "id": "4082a70f",
   "metadata": {},
   "outputs": [],
   "source": [
    "def id_cleaner(df):\n",
    "    id_list = df['id'].unique()\n",
    "    frames = []\n",
    "    i = 0\n",
    "    for eye in id_list:\n",
    "        pdf = df[df.id == eye]\n",
    "        pdf_left = pdf[pdf.laterality == 'Left']\n",
    "        pdf_right = pdf[pdf.laterality == 'Right']\n",
    "        pdf_left.id = i\n",
    "        pdf_right.id = i + 1\n",
    "        i += 2\n",
    "        if len(pdf_left) != 0:\n",
    "            frames.append(pdf_left)\n",
    "        if len(pdf_right) != 0:\n",
    "            frames.append(pdf_right)\n",
    "    return pd.concat(frames)\n",
    "\n",
    "def time_sort(df):\n",
    "    id_list = df.id.unique()\n",
    "    frames = []\n",
    "    for eye in id_list:\n",
    "        pdf = df[df.id == eye]\n",
    "        pdf.admission_date = pd.to_datetime(pdf.admission_date, dayfirst=True)\n",
    "        pdf.sort_values(by='admission_date', inplace=True)\n",
    "        frames.append(pdf)\n",
    "    return pd.concat(frames)"
   ]
  },
  {
   "cell_type": "code",
   "execution_count": 30,
   "id": "433cc34f",
   "metadata": {},
   "outputs": [],
   "source": [
    "df = pd.read_csv('/home/jupyter/charliemacuject/pharma_reports/data/dr2_boronia.csv')\n",
    "df.drop(columns=['Unnamed: 0', 'id'], inplace=True)\n",
    "ur_list = df.ur.unique()\n",
    "\n",
    "df = pd.DataFrame(ur_list,columns=['ur'])\n",
    "df.to_csv('ur_list.csv')"
   ]
  },
  {
   "cell_type": "code",
   "execution_count": 22,
   "id": "86a29424",
   "metadata": {},
   "outputs": [],
   "source": [
    "df = pd.read_csv('/home/jupyter/charliemacuject/pharma_reports/data/dr2_boronia.csv')\n",
    "df.drop(columns=['Unnamed: 0', 'id'], inplace=True)\n",
    "df.rename(columns={'ur': 'id', 'CreatedDate': 'admission_date'}, inplace=True)\n",
    "new_df = id_cleaner(df)\n",
    "new_df = time_sort(new_df)\n",
    "#new_df.drop(columns=['Unnamed: 0', 'Unnamed: 0.1'], inplace = True)\n",
    "#new_df.to_csv('/home/jupyter/charliemacuject/pharma_reports/data/DME/ericmayer.csv')"
   ]
  },
  {
   "cell_type": "code",
   "execution_count": 23,
   "id": "a334d439",
   "metadata": {},
   "outputs": [
    {
     "data": {
      "text/plain": [
       "Index(['eye_id', 'next_visit_date', 'is_submacular_blood_present',\n",
       "       'created_at', 'updated_at', 'is_floaters_present', 'is_irf_present',\n",
       "       'is_irf_gt_initiation', 'is_srf_present', 'is_srf_gt_initiation',\n",
       "       'is_ped_gt_last_visit', 'is_ped_gt_initiation',\n",
       "       'is_submacular_blood_new', 'is_vision_worse_than_last_visit',\n",
       "       'next_interval_in_weeks', 'drug_id', 'next_drug_id',\n",
       "       'next_recommendation_eye_state', 'admission_date', 'message',\n",
       "       'has_submacular_blood_resolved', 'should_extend', 'doctor_visit_type',\n",
       "       'doctor_visits_id', 'irf_srf_ped_lt_previous_drug', 'resume_treatment',\n",
       "       'is_atypical', 'status_from_silverpond',\n",
       "       'silverpond_original_image_url', 'silverpond_overlay_image_url',\n",
       "       'is_oct_correct', 'is_irf_gt_initiation_prediction',\n",
       "       'is_srf_gt_initiation_prediction', 'is_recommendation_changed',\n",
       "       'Recommended drug', 'Recommended next drug',\n",
       "       'Recommended next interval', 'Drug', 'Next Drug', 'Next Interval',\n",
       "       'clinic_id', 'user_id', 'creation_mode', 'visual_acuity',\n",
       "       'high_res_silverpond_original_image_url',\n",
       "       'high_res_silverpond_overlay_image_url', 'irf', 'srf',\n",
       "       'clinic_visit_type', 'planned_drug_id', 'planned_interval_in_weeks',\n",
       "       'completed', 'treatment_reason', 'reason_bilat', 'reason_pt',\n",
       "       'reason_fluid', 'reason_only_eye', 'oct_attached_at',\n",
       "       'fluid_measured_at', 'id', 'laterality', 'Unnamed: 62'],\n",
       "      dtype='object')"
      ]
     },
     "execution_count": 23,
     "metadata": {},
     "output_type": "execute_result"
    }
   ],
   "source": [
    "new_df.columns"
   ]
  },
  {
   "cell_type": "code",
   "execution_count": 24,
   "id": "f2e11c5e",
   "metadata": {},
   "outputs": [],
   "source": [
    "new_df.to_csv('/home/jupyter/charliemacuject/pharma_reports//data/dr_boronia_CLEANED.csv')"
   ]
  },
  {
   "cell_type": "code",
   "execution_count": 26,
   "id": "bcd6fbe5",
   "metadata": {},
   "outputs": [
    {
     "data": {
      "text/plain": [
       "array([  0,   1,   2,   3,   4,   5,   6,   7,   8,   9,  10,  11,  12,\n",
       "        13,  14,  15,  16,  17,  18,  19,  20,  21,  22,  23,  24,  25,\n",
       "        26,  27,  28,  29,  30,  31,  32,  33,  34,  35,  36,  37,  38,\n",
       "        39,  40,  41,  42,  43,  44,  45,  46,  47,  48,  49,  50,  51,\n",
       "        52,  53,  54,  55,  56,  57,  58,  59,  60,  61,  62,  63,  64,\n",
       "        65,  66,  67,  68,  69,  70,  71,  72,  73,  74,  75,  76,  77,\n",
       "        78,  79,  80,  81,  82,  83,  84,  85,  86,  87,  88,  89,  90,\n",
       "        91,  92,  93,  94,  95,  96,  97,  98,  99, 100, 101, 102, 103,\n",
       "       104, 105, 106, 107, 108, 109, 110, 111, 112, 113, 114, 115, 116,\n",
       "       117, 118, 119, 120, 121, 122, 123, 124, 125, 126, 127, 128, 129,\n",
       "       130, 131, 132, 133, 134, 135, 136, 137, 138, 139, 140, 141, 142,\n",
       "       143, 144, 145, 146, 147, 148, 149, 150, 151, 152, 153, 154, 155,\n",
       "       156, 157, 158, 159, 160, 161, 162, 163, 164, 165, 166, 167, 168,\n",
       "       169, 170, 171, 172, 173, 174, 175, 176, 177, 178, 179, 180, 181,\n",
       "       182, 183, 184, 185, 186, 187, 188, 189, 190, 191, 192, 193, 194,\n",
       "       195, 196, 197, 198, 199, 200, 201, 202, 203, 204, 205, 206, 207,\n",
       "       208, 209, 210, 211, 212, 213, 214, 215, 216, 217, 218, 219, 220,\n",
       "       221, 222, 223, 224, 225, 226, 227, 228, 229, 230, 231, 232, 233,\n",
       "       234, 235, 236, 237, 238, 239, 240, 241, 242, 243, 244, 245, 246,\n",
       "       247, 248, 249, 250, 251, 252, 253, 254, 255, 256, 257, 258, 259,\n",
       "       260, 261, 262, 263, 264, 265, 266, 267, 268, 269, 270, 271, 272,\n",
       "       273, 274, 275, 276, 277, 278, 279, 280, 281, 282, 283, 284, 285,\n",
       "       286, 287, 288, 289, 290, 291, 292, 293, 294, 295, 296, 297, 298,\n",
       "       299, 300, 301, 302, 303, 304, 305, 306, 307, 308, 309, 310, 311,\n",
       "       312, 313, 314, 315, 316, 317, 318, 319, 320, 321, 322, 323, 324,\n",
       "       325, 326, 327, 328, 329, 330, 331, 332, 333, 334, 335, 336, 337,\n",
       "       338, 339, 340, 341, 342, 343, 344, 345, 346, 347, 348, 349, 350,\n",
       "       351, 352, 353, 354, 355, 356, 357, 358, 359, 360, 361, 362, 363,\n",
       "       364, 365, 366, 367, 368, 369, 370, 371, 372, 373, 374, 375, 376,\n",
       "       377, 378, 379, 380, 381, 382, 383, 384, 385, 386, 387, 388, 389,\n",
       "       390, 391, 392, 393, 394, 395, 396, 397, 398, 399, 400, 401, 402,\n",
       "       403, 404, 405, 406, 407, 408, 409, 410, 411, 412, 413, 414, 415,\n",
       "       416, 417, 418, 419, 420, 421, 422, 423, 424, 425, 426, 427, 428,\n",
       "       429, 430, 431, 432, 433, 434, 435, 436, 437, 438, 439, 440, 441,\n",
       "       442, 443, 444, 445, 446, 447, 448, 449, 450, 451, 452, 453, 454,\n",
       "       455, 456, 457, 458, 459, 460, 461, 462, 463, 464, 465, 466, 467,\n",
       "       468, 469, 470, 471, 472, 473, 474, 475, 476, 477, 478, 479, 480,\n",
       "       481, 482, 483, 484, 485, 486, 487, 488, 489, 490, 491, 492, 493,\n",
       "       494, 495, 496, 497, 498, 499, 500, 501, 502, 503, 504, 505, 506,\n",
       "       507, 508, 509, 510, 511, 512, 513, 514, 515, 516, 517, 518, 519,\n",
       "       520, 521, 522, 523, 524, 525, 526, 527, 528, 529, 530, 531, 532,\n",
       "       533, 534, 535, 536, 537, 538, 539, 540, 541, 542, 543, 544, 545,\n",
       "       546, 547, 548, 549, 550, 551, 552, 553, 554, 555, 556, 557, 558,\n",
       "       559, 560, 561, 562, 563, 564, 565, 566, 567, 568, 569, 570, 571,\n",
       "       572, 573, 574, 575, 576, 577, 578, 579, 580, 581, 582, 583, 584,\n",
       "       585, 586, 587, 588, 589, 590, 591, 592, 593, 594, 595, 596, 597,\n",
       "       598, 599, 600, 601, 602, 603, 604, 605, 606, 607, 608, 609, 610,\n",
       "       611, 612, 613, 614, 615, 616, 617, 618, 619, 620, 621, 622, 623,\n",
       "       624, 625, 626, 627, 628, 631, 632, 633, 634, 635, 636, 637, 638,\n",
       "       639, 640, 641, 642, 643, 644, 645, 646, 647, 648, 649, 650, 651,\n",
       "       652, 653, 654, 655, 656, 657, 658, 659, 660, 661, 662, 663, 664,\n",
       "       665, 666, 667, 668, 669, 670, 671, 672, 673, 674, 675, 676, 677,\n",
       "       678, 679, 680, 681, 682, 683, 684, 685, 686, 687, 688, 689, 690,\n",
       "       691, 692, 693, 694, 695, 696, 697, 698, 699, 700, 701, 702, 703,\n",
       "       704, 705, 706, 707, 708, 709, 710, 711, 712, 713, 714, 715, 716,\n",
       "       717, 718, 719, 720, 721, 722, 723, 724, 725, 726, 727, 728, 729,\n",
       "       730, 731, 732, 733, 734, 735, 736, 737, 738, 739, 740, 741, 742,\n",
       "       743, 744, 745, 746, 747])"
      ]
     },
     "execution_count": 26,
     "metadata": {},
     "output_type": "execute_result"
    }
   ],
   "source": [
    "new_df.id.unique()"
   ]
  },
  {
   "cell_type": "code",
   "execution_count": 39,
   "id": "495f90ca",
   "metadata": {},
   "outputs": [
    {
     "data": {
      "text/plain": [
       "array(['Dr. Devinder Chauhan', 'Dr. Devinder Chauhan (BOR)',\n",
       "       'Dr. Eric Mayer', 'Dr. Lei Liu (BOR)', 'Dr. Alex Tan',\n",
       "       'Dr. Alex Tan\\t'], dtype=object)"
      ]
     },
     "execution_count": 39,
     "metadata": {},
     "output_type": "execute_result"
    }
   ],
   "source": [
    "new_df.DoctorName.unique()"
   ]
  },
  {
   "cell_type": "code",
   "execution_count": 40,
   "id": "65e8878c",
   "metadata": {},
   "outputs": [],
   "source": [
    "def data_separator(df):\n",
    "    df_dev1 = df[df.DoctorName == 'Dr. Devinder Chauhan']\n",
    "    df_dev2 = df[df.DoctorName == 'Dr. Devinder Chauhan (BOR)']\n",
    "    df_eric = df[df.DoctorName == 'Dr. Eric Mayer']\n",
    "    df_alex = df[df.DoctorName == 'Dr. Alex Tan']\n",
    "    df_alex2 = df[df.DoctorName == 'Dr. Alex Tan\\t']\n",
    "    return pd.concat([df_dev1, df_dev2]), df_eric, pd.concat([df_alex, df_alex2])"
   ]
  },
  {
   "cell_type": "code",
   "execution_count": 46,
   "id": "d18e3aeb",
   "metadata": {},
   "outputs": [],
   "source": [
    "df_dev, df_eric, df_alex = data_separator(new_df)"
   ]
  },
  {
   "cell_type": "code",
   "execution_count": 47,
   "id": "224c604c",
   "metadata": {},
   "outputs": [
    {
     "data": {
      "text/plain": [
       "(46111, 30346, 192)"
      ]
     },
     "execution_count": 47,
     "metadata": {},
     "output_type": "execute_result"
    }
   ],
   "source": [
    "len(df_dev), len(df_eric), len(df_alex)"
   ]
  },
  {
   "cell_type": "code",
   "execution_count": 48,
   "id": "fd6d2ffc",
   "metadata": {},
   "outputs": [],
   "source": [
    "df_dev.to_csv('/home/jupyter/charliemacuject/pharma_reports/data/devinder_chauhan_all.csv')"
   ]
  },
  {
   "cell_type": "code",
   "execution_count": 33,
   "id": "572c0f20",
   "metadata": {},
   "outputs": [],
   "source": [
    "df_eric.to_csv('/home/jupyter/charliemacuject/pharma_reports/data/eric_mayer.csv')"
   ]
  },
  {
   "cell_type": "code",
   "execution_count": 34,
   "id": "359030dc",
   "metadata": {},
   "outputs": [],
   "source": [
    "df_alex.to_csv('/home/jupyter/charliemacuject/pharma_reports/data/alex_tan.csv')"
   ]
  },
  {
   "cell_type": "code",
   "execution_count": 55,
   "id": "9e6dfcfc",
   "metadata": {},
   "outputs": [
    {
     "data": {
      "text/plain": [
       "0        80.0\n",
       "1        85.0\n",
       "2        85.0\n",
       "3        85.0\n",
       "4        80.0\n",
       "         ... \n",
       "76585    46.0\n",
       "76587    46.0\n",
       "76588    46.0\n",
       "76589    40.0\n",
       "76590    35.0\n",
       "Name: visual_acuity, Length: 42166, dtype: float64"
      ]
     },
     "execution_count": 55,
     "metadata": {},
     "output_type": "execute_result"
    }
   ],
   "source": [
    "df_dev.visual_acuity"
   ]
  },
  {
   "cell_type": "code",
   "execution_count": 57,
   "id": "2e5fbe3e",
   "metadata": {},
   "outputs": [
    {
     "data": {
      "text/plain": [
       "68.48909666555993"
      ]
     },
     "execution_count": 57,
     "metadata": {},
     "output_type": "execute_result"
    }
   ],
   "source": [
    "vas = df_dev.visual_acuity.to_list()\n",
    "np.mean(vas)"
   ]
  },
  {
   "cell_type": "code",
   "execution_count": 58,
   "id": "216a5582",
   "metadata": {},
   "outputs": [],
   "source": [
    "id_list = df_dev.id.unique()\n",
    "lst = []\n",
    "for eye in id_list:\n",
    "    pdf = df_dev[df_dev.id == eye]\n",
    "    vas = pdf.visual_acuity.to_list()\n",
    "    lst.append(vas[0])"
   ]
  },
  {
   "cell_type": "code",
   "execution_count": 59,
   "id": "6b96056f",
   "metadata": {},
   "outputs": [
    {
     "data": {
      "text/plain": [
       "65.85035750766087"
      ]
     },
     "execution_count": 59,
     "metadata": {},
     "output_type": "execute_result"
    }
   ],
   "source": [
    "np.mean(lst)"
   ]
  },
  {
   "cell_type": "code",
   "execution_count": null,
   "id": "0dc67a2b",
   "metadata": {},
   "outputs": [],
   "source": []
  }
 ],
 "metadata": {
  "environment": {
   "name": "common-cu110.m74",
   "type": "gcloud",
   "uri": "gcr.io/deeplearning-platform-release/base-cu110:m74"
  },
  "kernelspec": {
   "display_name": "Python 3",
   "language": "python",
   "name": "python3"
  },
  "language_info": {
   "codemirror_mode": {
    "name": "ipython",
    "version": 3
   },
   "file_extension": ".py",
   "mimetype": "text/x-python",
   "name": "python",
   "nbconvert_exporter": "python",
   "pygments_lexer": "ipython3",
   "version": "3.7.10"
  }
 },
 "nbformat": 4,
 "nbformat_minor": 5
}
