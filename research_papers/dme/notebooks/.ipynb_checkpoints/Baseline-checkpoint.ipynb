{
 "cells": [
  {
   "cell_type": "markdown",
   "id": "cf619c9b",
   "metadata": {},
   "source": [
    "# Baseline - logistic regression"
   ]
  },
  {
   "cell_type": "code",
   "execution_count": 18,
   "id": "2c265a1d",
   "metadata": {},
   "outputs": [],
   "source": [
    "import matplotlib.pyplot as plt\n",
    "from sklearn import linear_model\n",
    "from sklearn.model_selection import train_test_split\n",
    "from sklearn.metrics import accuracy_score\n",
    "from sklearn import metrics\n",
    "from sklearn.metrics import roc_curve, roc_auc_score, classification_report, accuracy_score, confusion_matrix\n",
    "from scipy.special import expit\n",
    "import pandas as pd\n",
    "import numpy as np\n",
    "import seaborn as sns\n",
    "import warnings\n",
    "warnings.filterwarnings(\"ignore\")"
   ]
  },
  {
   "cell_type": "markdown",
   "id": "c0ec07ef",
   "metadata": {},
   "source": [
    "## Classifier"
   ]
  },
  {
   "cell_type": "code",
   "execution_count": 38,
   "id": "3e967ebe",
   "metadata": {},
   "outputs": [],
   "source": [
    "import os\n",
    "import pandas as pd \n",
    "from sklearn import metrics\n",
    "from sklearn import tree \n",
    "import argparse\n",
    "\n",
    "def run(fold, model):\n",
    "    # read the training data with folds\n",
    "    df = pd.read_csv('/home/jupyter/charliemacuject/research_papers/dme/input/df_train_folds.csv')\n",
    "\n",
    "    # training data is where kfold is not equal to provided fold\n",
    "    # also, note that we reset the index\n",
    "    df_train = df[df.kfold != fold].reset_index(drop=True)\n",
    "\n",
    "    # validation data is where kfold is equal to provided fold\n",
    "    df_valid = df[df.kfold == fold].reset_index(drop=True)\n",
    "\n",
    "    # drop the label column from dataframe and convert it to\n",
    "    # a numpy array by using .values\n",
    "    # target is label column in the dataframe\n",
    "    x_train = df_train.drop(\"outcome\", axis=1).values\n",
    "    y_train = df_train.outcome.values\n",
    "\n",
    "    # similarly, for validation we have\n",
    "    x_valid = df_valid.drop(\"outcome\", axis=1).values\n",
    "    y_valid = df_valid.outcome.values\n",
    "\n",
    "    # initialises model\n",
    "    clf = model\n",
    "\n",
    "    # fit the model on training data\n",
    "    clf.fit(x_train, y_train)\n",
    "\n",
    "    # create predictions for validation samples\n",
    "    preds = clf.predict(x_valid)\n",
    "\n",
    "    # calculate metrics and print\n",
    "    accuracy = metrics.accuracy_score(y_valid, preds)\n",
    "    print(\"Fold={}, Accuracy={}\".format(fold, accuracy))"
   ]
  },
  {
   "cell_type": "code",
   "execution_count": 40,
   "id": "b095319e",
   "metadata": {},
   "outputs": [
    {
     "name": "stdout",
     "output_type": "stream",
     "text": [
      "Fold=0, Accuracy=0.76\n",
      "Fold=1, Accuracy=0.86\n",
      "Fold=2, Accuracy=0.8\n",
      "Fold=3, Accuracy=0.84\n",
      "Fold=4, Accuracy=0.68\n"
     ]
    }
   ],
   "source": [
    "for i in range(5):\n",
    "    run(fold=i, model=tree.DecisionTreeClassifier())"
   ]
  },
  {
   "cell_type": "code",
   "execution_count": 44,
   "id": "449d5137",
   "metadata": {},
   "outputs": [
    {
     "name": "stdout",
     "output_type": "stream",
     "text": [
      "Fold=0, Accuracy=0.82\n",
      "Fold=1, Accuracy=0.92\n",
      "Fold=2, Accuracy=0.84\n",
      "Fold=3, Accuracy=0.9\n",
      "Fold=4, Accuracy=0.8\n"
     ]
    }
   ],
   "source": [
    "from sklearn.ensemble import RandomForestClassifier\n",
    "\n",
    "for i in range(5):\n",
    "    run(fold=i, model=RandomForestClassifier())"
   ]
  },
  {
   "cell_type": "code",
   "execution_count": 47,
   "id": "bec53f0a",
   "metadata": {},
   "outputs": [
    {
     "name": "stdout",
     "output_type": "stream",
     "text": [
      "Fold=0, Accuracy=0.94\n",
      "Fold=1, Accuracy=0.92\n",
      "Fold=2, Accuracy=0.86\n",
      "Fold=3, Accuracy=0.98\n",
      "Fold=4, Accuracy=0.8\n"
     ]
    }
   ],
   "source": [
    "for i in range(5):\n",
    "    run(fold=i, model=linear_model.LogisticRegression())"
   ]
  },
  {
   "cell_type": "code",
   "execution_count": null,
   "id": "15d69a04",
   "metadata": {},
   "outputs": [],
   "source": []
  }
 ],
 "metadata": {
  "environment": {
   "name": "common-cu110.m74",
   "type": "gcloud",
   "uri": "gcr.io/deeplearning-platform-release/base-cu110:m74"
  },
  "kernelspec": {
   "display_name": "Python 3",
   "language": "python",
   "name": "python3"
  },
  "language_info": {
   "codemirror_mode": {
    "name": "ipython",
    "version": 3
   },
   "file_extension": ".py",
   "mimetype": "text/x-python",
   "name": "python",
   "nbconvert_exporter": "python",
   "pygments_lexer": "ipython3",
   "version": "3.7.10"
  }
 },
 "nbformat": 4,
 "nbformat_minor": 5
}
