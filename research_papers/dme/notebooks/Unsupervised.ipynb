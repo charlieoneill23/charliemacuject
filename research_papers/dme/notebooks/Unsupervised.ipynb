{
 "cells": [
  {
   "cell_type": "code",
   "execution_count": 34,
   "id": "6cf74915",
   "metadata": {},
   "outputs": [],
   "source": [
    "from sklearn import manifold\n",
    "import pandas as pd\n",
    "import numpy as np\n",
    "import warnings\n",
    "import seaborn as sns\n",
    "import matplotlib.pyplot as plt\n",
    "warnings.filterwarnings('ignore')"
   ]
  },
  {
   "cell_type": "code",
   "execution_count": 68,
   "id": "836a0626",
   "metadata": {},
   "outputs": [],
   "source": [
    "df0 = pd.read_csv('/home/jupyter/charliemacuject/pharma_reports/data/DME/devchau.csv')\n",
    "df1 = pd.read_csv('/home/jupyter/charliemacuject/pharma_reports/data/DME/devchau_bor.csv')\n",
    "df2 = pd.read_csv('/home/jupyter/charliemacuject/pharma_reports/data/DME/ericmayer.csv')\n",
    "df3 = pd.read_csv('/home/jupyter/charliemacuject/pharma_reports/data/DME/brendanvote.csv')"
   ]
  },
  {
   "cell_type": "markdown",
   "id": "5f19cb22",
   "metadata": {},
   "source": [
    "We want to classify the doctors to see if there is any difference in interval pattern. We'll label the Devinder, Eric and Launceston data as 0, 1 and 2, respectively. Let's import these datasets now."
   ]
  },
  {
   "cell_type": "code",
   "execution_count": 69,
   "id": "531c8bb8",
   "metadata": {},
   "outputs": [],
   "source": [
    "class ImportClean:\n",
    "    \n",
    "    def __init__(self, df):\n",
    "        self.df = df\n",
    "        \n",
    "    def clean(self):\n",
    "        cdf = self.df\n",
    "        cdf.CreatedDate = pd.to_datetime(cdf.CreatedDate)\n",
    "        try:\n",
    "            cdf.drop(columns=['Unnamed: 0'], inplace=True)\n",
    "        except:\n",
    "            pass\n",
    "        return cdf\n",
    "    \n",
    "    def interval_column(self):\n",
    "        df = self.clean()\n",
    "        id_list = df.id.unique()\n",
    "        df.CreatedDate = pd.to_datetime(df.CreatedDate)\n",
    "        frames = []\n",
    "        for eye in id_list:\n",
    "            interval_list = [0]\n",
    "            pdf = df[df.id == eye]\n",
    "            pdf.sort_values(by=['CreatedDate'], inplace=True)\n",
    "            for i in range(len(pdf)-1):\n",
    "                interval = np.round((pdf.CreatedDate.iloc[i+1] - pdf.CreatedDate.iloc[i]).days / 7)\n",
    "                interval_list.append(interval)\n",
    "            pdf['Interval'] = interval_list\n",
    "            frames.append(pdf)\n",
    "        return pd.concat(frames)"
   ]
  },
  {
   "cell_type": "markdown",
   "id": "b434d6a4",
   "metadata": {},
   "source": [
    "Again, we'll use the `ImportClean` class to clean the data, and append a column that tells us the interval."
   ]
  },
  {
   "cell_type": "code",
   "execution_count": 70,
   "id": "bc7d9af9",
   "metadata": {},
   "outputs": [],
   "source": [
    "df_list = [df0, df1, df2, df3]\n",
    "new_list = []\n",
    "for df in df_list:\n",
    "    df = ImportClean(df)\n",
    "    df = df.interval_column()\n",
    "    new_list.append(df)"
   ]
  },
  {
   "cell_type": "code",
   "execution_count": 71,
   "id": "ba87ad6e",
   "metadata": {},
   "outputs": [
    {
     "data": {
      "text/html": [
       "<div>\n",
       "<style scoped>\n",
       "    .dataframe tbody tr th:only-of-type {\n",
       "        vertical-align: middle;\n",
       "    }\n",
       "\n",
       "    .dataframe tbody tr th {\n",
       "        vertical-align: top;\n",
       "    }\n",
       "\n",
       "    .dataframe thead th {\n",
       "        text-align: right;\n",
       "    }\n",
       "</style>\n",
       "<table border=\"1\" class=\"dataframe\">\n",
       "  <thead>\n",
       "    <tr style=\"text-align: right;\">\n",
       "      <th></th>\n",
       "      <th>Unnamed: 0.1</th>\n",
       "      <th>Unnamed: 0.1.1</th>\n",
       "      <th>id</th>\n",
       "      <th>CreatedDate</th>\n",
       "      <th>Laterality</th>\n",
       "      <th>visual_acuity</th>\n",
       "      <th>InjToday</th>\n",
       "      <th>InjNext</th>\n",
       "      <th>NextInt</th>\n",
       "      <th>Unnamed: 7</th>\n",
       "      <th>Unnamed: 8</th>\n",
       "      <th>Interval</th>\n",
       "    </tr>\n",
       "  </thead>\n",
       "  <tbody>\n",
       "    <tr>\n",
       "      <th>0</th>\n",
       "      <td>0</td>\n",
       "      <td>0</td>\n",
       "      <td>0</td>\n",
       "      <td>2016-10-18</td>\n",
       "      <td>Left</td>\n",
       "      <td>89.0</td>\n",
       "      <td>NaN</td>\n",
       "      <td>NaN</td>\n",
       "      <td>NaN</td>\n",
       "      <td>NaN</td>\n",
       "      <td>NaN</td>\n",
       "      <td>0.0</td>\n",
       "    </tr>\n",
       "    <tr>\n",
       "      <th>1</th>\n",
       "      <td>1</td>\n",
       "      <td>1</td>\n",
       "      <td>0</td>\n",
       "      <td>2017-01-24</td>\n",
       "      <td>Left</td>\n",
       "      <td>94.0</td>\n",
       "      <td>NaN</td>\n",
       "      <td>NaN</td>\n",
       "      <td>NaN</td>\n",
       "      <td>NaN</td>\n",
       "      <td>NaN</td>\n",
       "      <td>14.0</td>\n",
       "    </tr>\n",
       "    <tr>\n",
       "      <th>2</th>\n",
       "      <td>2</td>\n",
       "      <td>2</td>\n",
       "      <td>0</td>\n",
       "      <td>2017-07-17</td>\n",
       "      <td>Left</td>\n",
       "      <td>89.0</td>\n",
       "      <td>NaN</td>\n",
       "      <td>NaN</td>\n",
       "      <td>NaN</td>\n",
       "      <td>NaN</td>\n",
       "      <td>NaN</td>\n",
       "      <td>25.0</td>\n",
       "    </tr>\n",
       "    <tr>\n",
       "      <th>3</th>\n",
       "      <td>3</td>\n",
       "      <td>3</td>\n",
       "      <td>0</td>\n",
       "      <td>2018-06-14</td>\n",
       "      <td>Left</td>\n",
       "      <td>89.0</td>\n",
       "      <td>NaN</td>\n",
       "      <td>NaN</td>\n",
       "      <td>NaN</td>\n",
       "      <td>NaN</td>\n",
       "      <td>NaN</td>\n",
       "      <td>47.0</td>\n",
       "    </tr>\n",
       "    <tr>\n",
       "      <th>4</th>\n",
       "      <td>4</td>\n",
       "      <td>4</td>\n",
       "      <td>0</td>\n",
       "      <td>2019-02-07</td>\n",
       "      <td>Left</td>\n",
       "      <td>94.0</td>\n",
       "      <td>NaN</td>\n",
       "      <td>NaN</td>\n",
       "      <td>NaN</td>\n",
       "      <td>NaN</td>\n",
       "      <td>NaN</td>\n",
       "      <td>34.0</td>\n",
       "    </tr>\n",
       "  </tbody>\n",
       "</table>\n",
       "</div>"
      ],
      "text/plain": [
       "   Unnamed: 0.1  Unnamed: 0.1.1  id CreatedDate Laterality  visual_acuity  \\\n",
       "0             0               0   0  2016-10-18       Left           89.0   \n",
       "1             1               1   0  2017-01-24       Left           94.0   \n",
       "2             2               2   0  2017-07-17       Left           89.0   \n",
       "3             3               3   0  2018-06-14       Left           89.0   \n",
       "4             4               4   0  2019-02-07       Left           94.0   \n",
       "\n",
       "  InjToday InjNext  NextInt Unnamed: 7 Unnamed: 8  Interval  \n",
       "0      NaN     NaN      NaN        NaN        NaN       0.0  \n",
       "1      NaN     NaN      NaN        NaN        NaN      14.0  \n",
       "2      NaN     NaN      NaN        NaN        NaN      25.0  \n",
       "3      NaN     NaN      NaN        NaN        NaN      47.0  \n",
       "4      NaN     NaN      NaN        NaN        NaN      34.0  "
      ]
     },
     "execution_count": 71,
     "metadata": {},
     "output_type": "execute_result"
    }
   ],
   "source": [
    "new_list[2].head()"
   ]
  },
  {
   "cell_type": "markdown",
   "id": "e98fba77",
   "metadata": {},
   "source": [
    "Our next step is to generate our values, which in this case are the interval length time series, one for each patient. We will extract only 10 visits, for only those patients who have actually had 10 visits. Let's write a function to do this. If we have $n$ patients, then the shape of `interval_values` will be $(n, 10)$."
   ]
  },
  {
   "cell_type": "code",
   "execution_count": 72,
   "id": "4513672b",
   "metadata": {},
   "outputs": [],
   "source": [
    "def interval_values(df, length):\n",
    "    id_list = df.id.unique()\n",
    "    initial_list = [x for x in range(length)]\n",
    "    int_values = np.array([initial_list])\n",
    "    for eye in id_list:\n",
    "        pdf = df[df.id == eye]\n",
    "        pdf.CreatedDate = pd.to_datetime(pdf.CreatedDate)\n",
    "        pdf.sort_values(by=['CreatedDate'])\n",
    "        pdf.dropna(subset=['Interval'], inplace=True)\n",
    "        if len(pdf) >= length:\n",
    "            int_lst = pdf.Interval.to_list()\n",
    "            int_values = np.vstack((int_values, int_lst[0:length]))\n",
    "    return int_values[1:, :]"
   ]
  },
  {
   "cell_type": "code",
   "execution_count": 73,
   "id": "3fe58327",
   "metadata": {},
   "outputs": [
    {
     "data": {
      "text/plain": [
       "(93, 5)"
      ]
     },
     "execution_count": 73,
     "metadata": {},
     "output_type": "execute_result"
    }
   ],
   "source": [
    "int_values0 = interval_values(new_list[0], 5)\n",
    "int_values0.shape"
   ]
  },
  {
   "cell_type": "code",
   "execution_count": 74,
   "id": "08192f42",
   "metadata": {},
   "outputs": [
    {
     "data": {
      "text/plain": [
       "(150, 5)"
      ]
     },
     "execution_count": 74,
     "metadata": {},
     "output_type": "execute_result"
    }
   ],
   "source": [
    "int_values1 = interval_values(new_list[1], 5)\n",
    "int_values1.shape"
   ]
  },
  {
   "cell_type": "code",
   "execution_count": 75,
   "id": "0ca2dfd7",
   "metadata": {},
   "outputs": [
    {
     "data": {
      "text/plain": [
       "(68, 5)"
      ]
     },
     "execution_count": 75,
     "metadata": {},
     "output_type": "execute_result"
    }
   ],
   "source": [
    "int_values2 = interval_values(new_list[2], 5)\n",
    "int_values2.shape"
   ]
  },
  {
   "cell_type": "code",
   "execution_count": 76,
   "id": "921c9ad4",
   "metadata": {},
   "outputs": [
    {
     "data": {
      "text/plain": [
       "(126, 5)"
      ]
     },
     "execution_count": 76,
     "metadata": {},
     "output_type": "execute_result"
    }
   ],
   "source": [
    "int_values3 = interval_values(new_list[3], 5)\n",
    "int_values3.shape"
   ]
  },
  {
   "cell_type": "markdown",
   "id": "ad6df444",
   "metadata": {},
   "source": [
    "We'll combine all the `int_values` into one numpy array."
   ]
  },
  {
   "cell_type": "code",
   "execution_count": 77,
   "id": "60786fdf",
   "metadata": {},
   "outputs": [
    {
     "data": {
      "text/plain": [
       "(437, 5)"
      ]
     },
     "execution_count": 77,
     "metadata": {},
     "output_type": "execute_result"
    }
   ],
   "source": [
    "int_values = np.vstack((int_values0, int_values1, int_values2, int_values3))\n",
    "int_values.shape"
   ]
  },
  {
   "cell_type": "markdown",
   "id": "f548bd71",
   "metadata": {},
   "source": [
    "We now need to generate our targets. Looking at the shape of our values above, we have the following targets."
   ]
  },
  {
   "cell_type": "code",
   "execution_count": 84,
   "id": "d92d2008",
   "metadata": {},
   "outputs": [
    {
     "data": {
      "text/plain": [
       "(437,)"
      ]
     },
     "execution_count": 84,
     "metadata": {},
     "output_type": "execute_result"
    }
   ],
   "source": [
    "targets0 = [0 for x in range(int_values0.shape[0])]\n",
    "targets1 = [1 for x in range(int_values1.shape[0])]\n",
    "targets2 = [2 for x in range(int_values2.shape[0])]\n",
    "targets3 = [3 for x in range(int_values3.shape[0])]\n",
    "targets = np.append(targets0, targets1)\n",
    "targets = np.append(targets, targets2)\n",
    "targets = np.append(targets, targets3)\n",
    "targets.shape"
   ]
  },
  {
   "cell_type": "markdown",
   "id": "88a6a501",
   "metadata": {},
   "source": [
    "We now use the sklearn built-in `manifold` to create the object."
   ]
  },
  {
   "cell_type": "code",
   "execution_count": 93,
   "id": "873b44a6",
   "metadata": {},
   "outputs": [],
   "source": [
    "tsne = manifold.TSNE(n_components=2, random_state=42, perplexity=10, n_iter=5000)\n",
    "transformed_data = tsne.fit_transform(int_values)"
   ]
  },
  {
   "cell_type": "markdown",
   "id": "c9ed5f16",
   "metadata": {},
   "source": [
    "Here, we are creating the pandas dataframe from a numpy array. `x` and `y` are the two components from the t-SNE decomposition, and targets is the actual number of the image."
   ]
  },
  {
   "cell_type": "code",
   "execution_count": 94,
   "id": "eaa1903d",
   "metadata": {},
   "outputs": [],
   "source": [
    "tsne_df = pd.DataFrame(\n",
    "    np.column_stack((transformed_data, targets[:3000])),\n",
    "    columns = [\"x\", \"y\", \"targets\"])\n",
    "tsne_df.loc[:, \"targets\"] = tsne_df.targets.astype(int)"
   ]
  },
  {
   "cell_type": "code",
   "execution_count": 95,
   "id": "0c544e59",
   "metadata": {},
   "outputs": [
    {
     "data": {
      "text/html": [
       "<div>\n",
       "<style scoped>\n",
       "    .dataframe tbody tr th:only-of-type {\n",
       "        vertical-align: middle;\n",
       "    }\n",
       "\n",
       "    .dataframe tbody tr th {\n",
       "        vertical-align: top;\n",
       "    }\n",
       "\n",
       "    .dataframe thead th {\n",
       "        text-align: right;\n",
       "    }\n",
       "</style>\n",
       "<table border=\"1\" class=\"dataframe\">\n",
       "  <thead>\n",
       "    <tr style=\"text-align: right;\">\n",
       "      <th></th>\n",
       "      <th>x</th>\n",
       "      <th>y</th>\n",
       "      <th>targets</th>\n",
       "    </tr>\n",
       "  </thead>\n",
       "  <tbody>\n",
       "    <tr>\n",
       "      <th>0</th>\n",
       "      <td>-3.338449</td>\n",
       "      <td>-4.102638</td>\n",
       "      <td>0</td>\n",
       "    </tr>\n",
       "    <tr>\n",
       "      <th>1</th>\n",
       "      <td>82.554863</td>\n",
       "      <td>23.652966</td>\n",
       "      <td>0</td>\n",
       "    </tr>\n",
       "    <tr>\n",
       "      <th>2</th>\n",
       "      <td>83.821701</td>\n",
       "      <td>22.605717</td>\n",
       "      <td>0</td>\n",
       "    </tr>\n",
       "    <tr>\n",
       "      <th>3</th>\n",
       "      <td>75.140129</td>\n",
       "      <td>-20.504799</td>\n",
       "      <td>0</td>\n",
       "    </tr>\n",
       "    <tr>\n",
       "      <th>4</th>\n",
       "      <td>76.694427</td>\n",
       "      <td>-20.641220</td>\n",
       "      <td>0</td>\n",
       "    </tr>\n",
       "  </tbody>\n",
       "</table>\n",
       "</div>"
      ],
      "text/plain": [
       "           x          y  targets\n",
       "0  -3.338449  -4.102638        0\n",
       "1  82.554863  23.652966        0\n",
       "2  83.821701  22.605717        0\n",
       "3  75.140129 -20.504799        0\n",
       "4  76.694427 -20.641220        0"
      ]
     },
     "execution_count": 95,
     "metadata": {},
     "output_type": "execute_result"
    }
   ],
   "source": [
    "tsne_df.head()"
   ]
  },
  {
   "cell_type": "markdown",
   "id": "7a985e6b",
   "metadata": {},
   "source": [
    "Finally, we can plot the decomposition."
   ]
  },
  {
   "cell_type": "code",
   "execution_count": 96,
   "id": "dbb5da0a",
   "metadata": {},
   "outputs": [
    {
     "data": {
      "image/png": "[encoded data removed]",
      "text/plain": [
       "<Figure size 547.625x504 with 1 Axes>"
      ]
     },
     "metadata": {
      "needs_background": "light"
     },
     "output_type": "display_data"
    }
   ],
   "source": [
    "grid = sns.FacetGrid(tsne_df, hue='targets', height=7)\n",
    "grid.map(plt.scatter, \"x\", \"y\").add_legend();"
   ]
  },
  {
   "cell_type": "code",
   "execution_count": null,
   "id": "17496b88",
   "metadata": {},
   "outputs": [],
   "source": []
  }
 ],
 "metadata": {
  "environment": {
   "name": "common-cu110.m74",
   "type": "gcloud",
   "uri": "gcr.io/deeplearning-platform-release/base-cu110:m74"
  },
  "kernelspec": {
   "display_name": "Python 3",
   "language": "python",
   "name": "python3"
  },
  "language_info": {
   "codemirror_mode": {
    "name": "ipython",
    "version": 3
   },
   "file_extension": ".py",
   "mimetype": "text/x-python",
   "name": "python",
   "nbconvert_exporter": "python",
   "pygments_lexer": "ipython3",
   "version": "3.7.10"
  }
 },
 "nbformat": 4,
 "nbformat_minor": 5
}
