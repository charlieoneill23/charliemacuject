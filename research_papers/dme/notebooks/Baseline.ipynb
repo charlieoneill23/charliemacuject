{
 "cells": [
  {
   "cell_type": "markdown",
   "id": "026d9b89",
   "metadata": {},
   "source": [
    "# Baseline - logistic regression"
   ]
  },
  {
   "cell_type": "code",
   "execution_count": 3,
   "id": "57254889",
   "metadata": {},
   "outputs": [],
   "source": [
    "import matplotlib.pyplot as plt\n",
    "from sklearn import linear_model\n",
    "from sklearn.model_selection import train_test_split\n",
    "from sklearn.metrics import accuracy_score\n",
    "from sklearn import metrics\n",
    "from sklearn.metrics import roc_curve, roc_auc_score, classification_report, accuracy_score, confusion_matrix\n",
    "from scipy.special import expit\n",
    "import pandas as pd\n",
    "import numpy as np\n",
    "import seaborn as sns\n",
    "from fastbook import *\n",
    "from pandas.api.types import is_string_dtype, is_numeric_dtype, is_categorical_dtype\n",
    "from fastai.tabular.all import *\n",
    "from sklearn.ensemble import RandomForestClassifier\n",
    "from sklearn.tree import DecisionTreeClassifier\n",
    "from dtreeviz.trees import *\n",
    "from IPython.display import Image, display_svg, SVG\n",
    "\n",
    "\n",
    "import warnings\n",
    "warnings.filterwarnings(\"ignore\")"
   ]
  },
  {
   "cell_type": "markdown",
   "id": "c256ff09",
   "metadata": {},
   "source": [
    "## Classifier"
   ]
  },
  {
   "cell_type": "code",
   "execution_count": 59,
   "id": "42f17167",
   "metadata": {},
   "outputs": [],
   "source": [
    "import os\n",
    "import pandas as pd \n",
    "from sklearn import metrics\n",
    "from sklearn import tree \n",
    "import argparse\n",
    "\n",
    "def run(fold, model):\n",
    "    # read the training data with folds\n",
    "    df = pd.read_csv('/home/jupyter/charliemacuject/research_papers/dme/input/df_train_folds.csv')\n",
    "\n",
    "    # training data is where kfold is not equal to provided fold\n",
    "    # also, note that we reset the index\n",
    "    df_train = df[df.kfold != fold].reset_index(drop=True)\n",
    "\n",
    "    # validation data is where kfold is equal to provided fold\n",
    "    df_valid = df[df.kfold == fold].reset_index(drop=True)\n",
    "\n",
    "    # drop the label column from dataframe and convert it to\n",
    "    # a numpy array by using .values\n",
    "    # target is label column in the dataframe\n",
    "    x_train = df_train.drop(\"outcome\", axis=1).values\n",
    "    y_train = df_train.outcome.values\n",
    "\n",
    "    # similarly, for validation we have\n",
    "    x_valid = df_valid.drop(\"outcome\", axis=1).values\n",
    "    y_valid = df_valid.outcome.values\n",
    "\n",
    "    # initialises model\n",
    "    clf = model\n",
    "\n",
    "    # fit the model on training data\n",
    "    clf.fit(x_train, y_train)\n",
    "\n",
    "    # create predictions for validation samples\n",
    "    preds = clf.predict(x_valid)\n",
    "\n",
    "    # calculate metrics and print\n",
    "    accuracy = metrics.accuracy_score(y_valid, preds)\n",
    "    print(\"Fold={}, Accuracy={}\".format(fold, accuracy))"
   ]
  },
  {
   "cell_type": "code",
   "execution_count": 40,
   "id": "34f528b8",
   "metadata": {},
   "outputs": [
    {
     "name": "stdout",
     "output_type": "stream",
     "text": [
      "Fold=0, Accuracy=0.76\n",
      "Fold=1, Accuracy=0.86\n",
      "Fold=2, Accuracy=0.8\n",
      "Fold=3, Accuracy=0.84\n",
      "Fold=4, Accuracy=0.68\n"
     ]
    }
   ],
   "source": [
    "for i in range(5):\n",
    "    run(fold=i, model=tree.DecisionTreeClassifier())"
   ]
  },
  {
   "cell_type": "code",
   "execution_count": 44,
   "id": "aadafd1c",
   "metadata": {},
   "outputs": [
    {
     "name": "stdout",
     "output_type": "stream",
     "text": [
      "Fold=0, Accuracy=0.82\n",
      "Fold=1, Accuracy=0.92\n",
      "Fold=2, Accuracy=0.84\n",
      "Fold=3, Accuracy=0.9\n",
      "Fold=4, Accuracy=0.8\n"
     ]
    }
   ],
   "source": [
    "from sklearn.ensemble import RandomForestClassifier\n",
    "\n",
    "for i in range(5):\n",
    "    run(fold=i, model=RandomForestClassifier())"
   ]
  },
  {
   "cell_type": "code",
   "execution_count": 47,
   "id": "fe898b35",
   "metadata": {},
   "outputs": [
    {
     "name": "stdout",
     "output_type": "stream",
     "text": [
      "Fold=0, Accuracy=0.94\n",
      "Fold=1, Accuracy=0.92\n",
      "Fold=2, Accuracy=0.86\n",
      "Fold=3, Accuracy=0.98\n",
      "Fold=4, Accuracy=0.8\n"
     ]
    }
   ],
   "source": [
    "for i in range(5):\n",
    "    run(fold=i, model=linear_model.LogisticRegression())"
   ]
  },
  {
   "cell_type": "markdown",
   "id": "71deee0b",
   "metadata": {},
   "source": [
    "## Decision tree"
   ]
  },
  {
   "cell_type": "code",
   "execution_count": 5,
   "id": "72084c8f",
   "metadata": {},
   "outputs": [],
   "source": [
    "df_train = pd.read_csv('/home/jupyter/charliemacuject/research_papers/dme/input/df_train.csv')\n",
    "df_train.drop(columns=['Unnamed: 0', 'Unnamed: 0.1'], inplace=True)\n",
    "df_test = pd.read_csv('/home/jupyter/charliemacuject/research_papers/dme/input/df_test.csv')\n",
    "df_test.drop(columns=['Unnamed: 0', 'Unnamed: 0.1'], inplace=True)"
   ]
  },
  {
   "cell_type": "code",
   "execution_count": 6,
   "id": "155f687e",
   "metadata": {},
   "outputs": [
    {
     "data": {
      "text/plain": [
       "Index(['mean_vision', 'time_above_baseline', 'peak_visual_improvement',\n",
       "       'time_to_peak', 'baseline', 'visits', 'time_since_starting', 'location',\n",
       "       'id', 'outcome'],\n",
       "      dtype='object')"
      ]
     },
     "execution_count": 6,
     "metadata": {},
     "output_type": "execute_result"
    }
   ],
   "source": [
    "df_test.columns"
   ]
  },
  {
   "cell_type": "code",
   "execution_count": 7,
   "id": "440c6be9",
   "metadata": {},
   "outputs": [],
   "source": [
    "X_train = df_train.drop(columns=['outcome', 'id'])\n",
    "y_train = df_train.outcome\n",
    "X_test = df_test.drop(columns=['outcome', 'id'])\n",
    "y_test = df_test.outcome"
   ]
  },
  {
   "cell_type": "markdown",
   "id": "65681cd9",
   "metadata": {},
   "source": [
    "We use one-hot encoding to represent categorical variables:"
   ]
  },
  {
   "cell_type": "code",
   "execution_count": 8,
   "id": "5b0f8a1b",
   "metadata": {},
   "outputs": [],
   "source": [
    "X_train = pd.concat([X_train, pd.get_dummies(X_train.location)], axis=1)\n",
    "X_train.drop(columns=['location'], inplace=True)\n",
    "X_test = pd.concat([X_test, pd.get_dummies(X_test.location)], axis=1)\n",
    "X_test.drop(columns=['location'], inplace=True)"
   ]
  },
  {
   "cell_type": "code",
   "execution_count": 9,
   "id": "c88198a3",
   "metadata": {},
   "outputs": [
    {
     "data": {
      "text/html": [
       "<div>\n",
       "<style scoped>\n",
       "    .dataframe tbody tr th:only-of-type {\n",
       "        vertical-align: middle;\n",
       "    }\n",
       "\n",
       "    .dataframe tbody tr th {\n",
       "        vertical-align: top;\n",
       "    }\n",
       "\n",
       "    .dataframe thead th {\n",
       "        text-align: right;\n",
       "    }\n",
       "</style>\n",
       "<table border=\"1\" class=\"dataframe\">\n",
       "  <thead>\n",
       "    <tr style=\"text-align: right;\">\n",
       "      <th></th>\n",
       "      <th>mean_vision</th>\n",
       "      <th>time_above_baseline</th>\n",
       "      <th>peak_visual_improvement</th>\n",
       "      <th>time_to_peak</th>\n",
       "      <th>baseline</th>\n",
       "      <th>visits</th>\n",
       "      <th>time_since_starting</th>\n",
       "      <th>boronia</th>\n",
       "      <th>box_hill</th>\n",
       "    </tr>\n",
       "  </thead>\n",
       "  <tbody>\n",
       "    <tr>\n",
       "      <th>0</th>\n",
       "      <td>76.560000</td>\n",
       "      <td>959</td>\n",
       "      <td>10.0</td>\n",
       "      <td>232</td>\n",
       "      <td>70.0</td>\n",
       "      <td>25</td>\n",
       "      <td>959</td>\n",
       "      <td>1</td>\n",
       "      <td>0</td>\n",
       "    </tr>\n",
       "    <tr>\n",
       "      <th>1</th>\n",
       "      <td>77.027397</td>\n",
       "      <td>0</td>\n",
       "      <td>0.0</td>\n",
       "      <td>0</td>\n",
       "      <td>94.0</td>\n",
       "      <td>73</td>\n",
       "      <td>2812</td>\n",
       "      <td>1</td>\n",
       "      <td>0</td>\n",
       "    </tr>\n",
       "    <tr>\n",
       "      <th>2</th>\n",
       "      <td>74.000000</td>\n",
       "      <td>0</td>\n",
       "      <td>0.0</td>\n",
       "      <td>0</td>\n",
       "      <td>76.0</td>\n",
       "      <td>6</td>\n",
       "      <td>593</td>\n",
       "      <td>0</td>\n",
       "      <td>1</td>\n",
       "    </tr>\n",
       "    <tr>\n",
       "      <th>3</th>\n",
       "      <td>67.947368</td>\n",
       "      <td>793</td>\n",
       "      <td>9.0</td>\n",
       "      <td>756</td>\n",
       "      <td>76.0</td>\n",
       "      <td>38</td>\n",
       "      <td>1813</td>\n",
       "      <td>0</td>\n",
       "      <td>1</td>\n",
       "    </tr>\n",
       "    <tr>\n",
       "      <th>4</th>\n",
       "      <td>66.818182</td>\n",
       "      <td>0</td>\n",
       "      <td>0.0</td>\n",
       "      <td>0</td>\n",
       "      <td>70.0</td>\n",
       "      <td>11</td>\n",
       "      <td>304</td>\n",
       "      <td>0</td>\n",
       "      <td>1</td>\n",
       "    </tr>\n",
       "  </tbody>\n",
       "</table>\n",
       "</div>"
      ],
      "text/plain": [
       "   mean_vision  time_above_baseline  peak_visual_improvement  time_to_peak  \\\n",
       "0    76.560000                  959                     10.0           232   \n",
       "1    77.027397                    0                      0.0             0   \n",
       "2    74.000000                    0                      0.0             0   \n",
       "3    67.947368                  793                      9.0           756   \n",
       "4    66.818182                    0                      0.0             0   \n",
       "\n",
       "   baseline  visits  time_since_starting  boronia  box_hill  \n",
       "0      70.0      25                  959        1         0  \n",
       "1      94.0      73                 2812        1         0  \n",
       "2      76.0       6                  593        0         1  \n",
       "3      76.0      38                 1813        0         1  \n",
       "4      70.0      11                  304        0         1  "
      ]
     },
     "execution_count": 9,
     "metadata": {},
     "output_type": "execute_result"
    }
   ],
   "source": [
    "X_train.head()"
   ]
  },
  {
   "cell_type": "code",
   "execution_count": 86,
   "id": "27ff65e2",
   "metadata": {},
   "outputs": [],
   "source": [
    "m = DecisionTreeClassifier(max_leaf_nodes = 4)\n",
    "m.fit(X_train, y_train);"
   ]
  },
  {
   "cell_type": "code",
   "execution_count": 87,
   "id": "c7462839",
   "metadata": {},
   "outputs": [
    {
     "data": {
      "image/svg+xml": [
       "<?xml version=\"1.0\" encoding=\"UTF-8\" standalone=\"no\"?>\n",
       "<!DOCTYPE svg PUBLIC \"-//W3C//DTD SVG 1.1//EN\"\n",
       " \"http://www.w3.org/Graphics/SVG/1.1/DTD/svg11.dtd\">\n",
       "<!-- Generated by graphviz version 2.40.1 (20161225.0304)\n",
       " -->\n",
       "<!-- Title: Tree Pages: 1 -->\n",
       "<svg width=\"628pt\" height=\"381pt\"\n",
       " viewBox=\"0.00 0.00 628.00 380.50\" xmlns=\"http://www.w3.org/2000/svg\" xmlns:xlink=\"http://www.w3.org/1999/xlink\">\n",
       "<g id=\"graph0\" class=\"graph\" transform=\"scale(1 1) rotate(0) translate(4 376.5)\">\n",
       "<title>Tree</title>\n",
       "<polygon fill=\"#ffffff\" stroke=\"transparent\" points=\"-4,4 -4,-376.5 624,-376.5 624,4 -4,4\"/>\n",
       "<!-- 0 -->\n",
       "<g id=\"node1\" class=\"node\">\n",
       "<title>0</title>\n",
       "<path fill=\"#f8decb\" stroke=\"#000000\" d=\"M341.3333,-373C341.3333,-373 117.3333,-373 117.3333,-373 111.3333,-373 105.3333,-367 105.3333,-361 105.3333,-361 105.3333,-317 105.3333,-317 105.3333,-311 111.3333,-305 117.3333,-305 117.3333,-305 341.3333,-305 341.3333,-305 347.3333,-305 353.3333,-311 353.3333,-317 353.3333,-317 353.3333,-361 353.3333,-361 353.3333,-367 347.3333,-373 341.3333,-373\"/>\n",
       "<text text-anchor=\"start\" x=\"113.3333\" y=\"-357.8\" font-family=\"Helvetica,sans-Serif\" font-size=\"14.00\" fill=\"#000000\">peak_visual_improvement ≤ 4.5</text>\n",
       "<text text-anchor=\"start\" x=\"189.8333\" y=\"-342.8\" font-family=\"Helvetica,sans-Serif\" font-size=\"14.00\" fill=\"#000000\">gini = 0.49</text>\n",
       "<text text-anchor=\"start\" x=\"174.8333\" y=\"-327.8\" font-family=\"Helvetica,sans-Serif\" font-size=\"14.00\" fill=\"#000000\">samples = 250</text>\n",
       "<text text-anchor=\"start\" x=\"162.3333\" y=\"-312.8\" font-family=\"Helvetica,sans-Serif\" font-size=\"14.00\" fill=\"#000000\">value = [144, 106]</text>\n",
       "</g>\n",
       "<!-- 1 -->\n",
       "<g id=\"node2\" class=\"node\">\n",
       "<title>1</title>\n",
       "<path fill=\"#e68641\" stroke=\"#000000\" d=\"M119.8333,-52.5C119.8333,-52.5 18.8333,-52.5 18.8333,-52.5 12.8333,-52.5 6.8333,-46.5 6.8333,-40.5 6.8333,-40.5 6.8333,-11.5 6.8333,-11.5 6.8333,-5.5 12.8333,.5 18.8333,.5 18.8333,.5 119.8333,.5 119.8333,.5 125.8333,.5 131.8333,-5.5 131.8333,-11.5 131.8333,-11.5 131.8333,-40.5 131.8333,-40.5 131.8333,-46.5 125.8333,-52.5 119.8333,-52.5\"/>\n",
       "<text text-anchor=\"start\" x=\"29.8333\" y=\"-37.3\" font-family=\"Helvetica,sans-Serif\" font-size=\"14.00\" fill=\"#000000\">gini = 0.08</text>\n",
       "<text text-anchor=\"start\" x=\"14.8333\" y=\"-22.3\" font-family=\"Helvetica,sans-Serif\" font-size=\"14.00\" fill=\"#000000\">samples = 102</text>\n",
       "<text text-anchor=\"start\" x=\"15.8333\" y=\"-7.3\" font-family=\"Helvetica,sans-Serif\" font-size=\"14.00\" fill=\"#000000\">value = [98, 4]</text>\n",
       "</g>\n",
       "<!-- 0&#45;&gt;1 -->\n",
       "<g id=\"edge1\" class=\"edge\">\n",
       "<title>0&#45;&gt;1</title>\n",
       "<path fill=\"none\" stroke=\"#000000\" d=\"M207.8489,-304.8202C196.6798,-287.0511 185.3333,-269 185.3333,-269 185.3333,-269 118.7987,-129.6214 86.509,-61.9801\"/>\n",
       "<polygon fill=\"#000000\" stroke=\"#000000\" points=\"89.6572,-60.4504 82.1906,-52.9337 83.34,-63.466 89.6572,-60.4504\"/>\n",
       "<text text-anchor=\"middle\" x=\"73.8529\" y=\"-72.8024\" font-family=\"Helvetica,sans-Serif\" font-size=\"14.00\" fill=\"#000000\">True</text>\n",
       "</g>\n",
       "<!-- 2 -->\n",
       "<g id=\"node3\" class=\"node\">\n",
       "<title>2</title>\n",
       "<path fill=\"#92c9f1\" stroke=\"#000000\" d=\"M412.3333,-269C412.3333,-269 206.3333,-269 206.3333,-269 200.3333,-269 194.3333,-263 194.3333,-257 194.3333,-257 194.3333,-213 194.3333,-213 194.3333,-207 200.3333,-201 206.3333,-201 206.3333,-201 412.3333,-201 412.3333,-201 418.3333,-201 424.3333,-207 424.3333,-213 424.3333,-213 424.3333,-257 424.3333,-257 424.3333,-263 418.3333,-269 412.3333,-269\"/>\n",
       "<text text-anchor=\"start\" x=\"202.3333\" y=\"-253.8\" font-family=\"Helvetica,sans-Serif\" font-size=\"14.00\" fill=\"#000000\">time_above_baseline ≤ 785.5</text>\n",
       "<text text-anchor=\"start\" x=\"269.8333\" y=\"-238.8\" font-family=\"Helvetica,sans-Serif\" font-size=\"14.00\" fill=\"#000000\">gini = 0.43</text>\n",
       "<text text-anchor=\"start\" x=\"254.8333\" y=\"-223.8\" font-family=\"Helvetica,sans-Serif\" font-size=\"14.00\" fill=\"#000000\">samples = 148</text>\n",
       "<text text-anchor=\"start\" x=\"246.8333\" y=\"-208.8\" font-family=\"Helvetica,sans-Serif\" font-size=\"14.00\" fill=\"#000000\">value = [46, 102]</text>\n",
       "</g>\n",
       "<!-- 0&#45;&gt;2 -->\n",
       "<g id=\"edge2\" class=\"edge\">\n",
       "<title>0&#45;&gt;2</title>\n",
       "<path fill=\"none\" stroke=\"#000000\" d=\"M255.5283,-304.9465C262.3658,-296.0578 269.8167,-286.3716 276.9343,-277.1188\"/>\n",
       "<polygon fill=\"#000000\" stroke=\"#000000\" points=\"279.7565,-279.1903 283.0795,-269.13 274.2082,-274.9223 279.7565,-279.1903\"/>\n",
       "<text text-anchor=\"middle\" x=\"286.313\" y=\"-290.22\" font-family=\"Helvetica,sans-Serif\" font-size=\"14.00\" fill=\"#000000\">False</text>\n",
       "</g>\n",
       "<!-- 3 -->\n",
       "<g id=\"node4\" class=\"node\">\n",
       "<title>3</title>\n",
       "<path fill=\"#e7f3fc\" stroke=\"#000000\" d=\"M405.8333,-165C405.8333,-165 212.8333,-165 212.8333,-165 206.8333,-165 200.8333,-159 200.8333,-153 200.8333,-153 200.8333,-109 200.8333,-109 200.8333,-103 206.8333,-97 212.8333,-97 212.8333,-97 405.8333,-97 405.8333,-97 411.8333,-97 417.8333,-103 417.8333,-109 417.8333,-109 417.8333,-153 417.8333,-153 417.8333,-159 411.8333,-165 405.8333,-165\"/>\n",
       "<text text-anchor=\"start\" x=\"208.8333\" y=\"-149.8\" font-family=\"Helvetica,sans-Serif\" font-size=\"14.00\" fill=\"#000000\">time_since_starting ≤ 781.5</text>\n",
       "<text text-anchor=\"start\" x=\"274.3333\" y=\"-134.8\" font-family=\"Helvetica,sans-Serif\" font-size=\"14.00\" fill=\"#000000\">gini = 0.5</text>\n",
       "<text text-anchor=\"start\" x=\"259.3333\" y=\"-119.8\" font-family=\"Helvetica,sans-Serif\" font-size=\"14.00\" fill=\"#000000\">samples = 94</text>\n",
       "<text text-anchor=\"start\" x=\"251.3333\" y=\"-104.8\" font-family=\"Helvetica,sans-Serif\" font-size=\"14.00\" fill=\"#000000\">value = [44, 50]</text>\n",
       "</g>\n",
       "<!-- 2&#45;&gt;3 -->\n",
       "<g id=\"edge3\" class=\"edge\">\n",
       "<title>2&#45;&gt;3</title>\n",
       "<path fill=\"none\" stroke=\"#000000\" d=\"M309.3333,-200.9465C309.3333,-192.776 309.3333,-183.9318 309.3333,-175.3697\"/>\n",
       "<polygon fill=\"#000000\" stroke=\"#000000\" points=\"312.8334,-175.13 309.3333,-165.13 305.8334,-175.13 312.8334,-175.13\"/>\n",
       "</g>\n",
       "<!-- 4 -->\n",
       "<g id=\"node7\" class=\"node\">\n",
       "<title>4</title>\n",
       "<path fill=\"#41a1e6\" stroke=\"#000000\" d=\"M600.8333,-52.5C600.8333,-52.5 501.8333,-52.5 501.8333,-52.5 495.8333,-52.5 489.8333,-46.5 489.8333,-40.5 489.8333,-40.5 489.8333,-11.5 489.8333,-11.5 489.8333,-5.5 495.8333,.5 501.8333,.5 501.8333,.5 600.8333,.5 600.8333,.5 606.8333,.5 612.8333,-5.5 612.8333,-11.5 612.8333,-11.5 612.8333,-40.5 612.8333,-40.5 612.8333,-46.5 606.8333,-52.5 600.8333,-52.5\"/>\n",
       "<text text-anchor=\"start\" x=\"511.8333\" y=\"-37.3\" font-family=\"Helvetica,sans-Serif\" font-size=\"14.00\" fill=\"#000000\">gini = 0.07</text>\n",
       "<text text-anchor=\"start\" x=\"501.3333\" y=\"-22.3\" font-family=\"Helvetica,sans-Serif\" font-size=\"14.00\" fill=\"#000000\">samples = 54</text>\n",
       "<text text-anchor=\"start\" x=\"497.8333\" y=\"-7.3\" font-family=\"Helvetica,sans-Serif\" font-size=\"14.00\" fill=\"#000000\">value = [2, 52]</text>\n",
       "</g>\n",
       "<!-- 2&#45;&gt;4 -->\n",
       "<g id=\"edge6\" class=\"edge\">\n",
       "<title>2&#45;&gt;4</title>\n",
       "<path fill=\"none\" stroke=\"#000000\" d=\"M366.9506,-200.8202C396.9043,-183.0511 427.3333,-165 427.3333,-165 427.3333,-165 483.8697,-101.6246 520.5921,-60.46\"/>\n",
       "<polygon fill=\"#000000\" stroke=\"#000000\" points=\"523.3797,-62.5928 527.4249,-52.8006 518.1561,-57.9329 523.3797,-62.5928\"/>\n",
       "</g>\n",
       "<!-- 5 -->\n",
       "<g id=\"node5\" class=\"node\">\n",
       "<title>5</title>\n",
       "<path fill=\"#61b1ea\" stroke=\"#000000\" d=\"M276.8333,-52.5C276.8333,-52.5 177.8333,-52.5 177.8333,-52.5 171.8333,-52.5 165.8333,-46.5 165.8333,-40.5 165.8333,-40.5 165.8333,-11.5 165.8333,-11.5 165.8333,-5.5 171.8333,.5 177.8333,.5 177.8333,.5 276.8333,.5 276.8333,.5 282.8333,.5 288.8333,-5.5 288.8333,-11.5 288.8333,-11.5 288.8333,-40.5 288.8333,-40.5 288.8333,-46.5 282.8333,-52.5 276.8333,-52.5\"/>\n",
       "<text text-anchor=\"start\" x=\"187.8333\" y=\"-37.3\" font-family=\"Helvetica,sans-Serif\" font-size=\"14.00\" fill=\"#000000\">gini = 0.28</text>\n",
       "<text text-anchor=\"start\" x=\"177.3333\" y=\"-22.3\" font-family=\"Helvetica,sans-Serif\" font-size=\"14.00\" fill=\"#000000\">samples = 48</text>\n",
       "<text text-anchor=\"start\" x=\"173.8333\" y=\"-7.3\" font-family=\"Helvetica,sans-Serif\" font-size=\"14.00\" fill=\"#000000\">value = [8, 40]</text>\n",
       "</g>\n",
       "<!-- 3&#45;&gt;5 -->\n",
       "<g id=\"edge4\" class=\"edge\">\n",
       "<title>3&#45;&gt;5</title>\n",
       "<path fill=\"none\" stroke=\"#000000\" d=\"M282.7103,-96.9095C273.6789,-85.3449 263.5818,-72.4157 254.508,-60.7968\"/>\n",
       "<polygon fill=\"#000000\" stroke=\"#000000\" points=\"257.025,-58.3333 248.1115,-52.6062 251.508,-62.6419 257.025,-58.3333\"/>\n",
       "</g>\n",
       "<!-- 6 -->\n",
       "<g id=\"node6\" class=\"node\">\n",
       "<title>6</title>\n",
       "<path fill=\"#eca470\" stroke=\"#000000\" d=\"M443.3333,-52.5C443.3333,-52.5 335.3333,-52.5 335.3333,-52.5 329.3333,-52.5 323.3333,-46.5 323.3333,-40.5 323.3333,-40.5 323.3333,-11.5 323.3333,-11.5 323.3333,-5.5 329.3333,.5 335.3333,.5 335.3333,.5 443.3333,.5 443.3333,.5 449.3333,.5 455.3333,-5.5 455.3333,-11.5 455.3333,-11.5 455.3333,-40.5 455.3333,-40.5 455.3333,-46.5 449.3333,-52.5 443.3333,-52.5\"/>\n",
       "<text text-anchor=\"start\" x=\"349.8333\" y=\"-37.3\" font-family=\"Helvetica,sans-Serif\" font-size=\"14.00\" fill=\"#000000\">gini = 0.34</text>\n",
       "<text text-anchor=\"start\" x=\"339.3333\" y=\"-22.3\" font-family=\"Helvetica,sans-Serif\" font-size=\"14.00\" fill=\"#000000\">samples = 46</text>\n",
       "<text text-anchor=\"start\" x=\"331.3333\" y=\"-7.3\" font-family=\"Helvetica,sans-Serif\" font-size=\"14.00\" fill=\"#000000\">value = [36, 10]</text>\n",
       "</g>\n",
       "<!-- 3&#45;&gt;6 -->\n",
       "<g id=\"edge5\" class=\"edge\">\n",
       "<title>3&#45;&gt;6</title>\n",
       "<path fill=\"none\" stroke=\"#000000\" d=\"M335.307,-96.9095C344.1182,-85.3449 353.969,-72.4157 362.8215,-60.7968\"/>\n",
       "<polygon fill=\"#000000\" stroke=\"#000000\" points=\"365.7855,-62.6817 369.0619,-52.6062 360.2175,-58.4394 365.7855,-62.6817\"/>\n",
       "</g>\n",
       "</g>\n",
       "</svg>\n"
      ],
      "text/plain": [
       "<graphviz.files.Source at 0x7f1bab053410>"
      ]
     },
     "execution_count": 87,
     "metadata": {},
     "output_type": "execute_result"
    }
   ],
   "source": [
    "draw_tree(m, X_train, size=10, leaves_parallel=True, precision = 2)"
   ]
  },
  {
   "cell_type": "code",
   "execution_count": 88,
   "id": "9e08bccf",
   "metadata": {},
   "outputs": [],
   "source": [
    "def accuracy(y_true, y_pred):\n",
    "    correct_counter = 0\n",
    "    for yt, yp in zip(y_true, y_pred):\n",
    "        if yt == yp:\n",
    "            correct_counter += 1\n",
    "    return round(correct_counter / len(y_true), 5)"
   ]
  },
  {
   "cell_type": "code",
   "execution_count": 89,
   "id": "7a05ad94",
   "metadata": {},
   "outputs": [],
   "source": [
    "def m_accuracy(m, X, y): \n",
    "    return accuracy(m.predict(X), y)"
   ]
  },
  {
   "cell_type": "code",
   "execution_count": 90,
   "id": "c4643a7d",
   "metadata": {},
   "outputs": [
    {
     "data": {
      "text/plain": [
       "0.904"
      ]
     },
     "execution_count": 90,
     "metadata": {},
     "output_type": "execute_result"
    }
   ],
   "source": [
    "m_accuracy(m, X_train, y_train)"
   ]
  },
  {
   "cell_type": "code",
   "execution_count": 91,
   "id": "d35dd205",
   "metadata": {},
   "outputs": [
    {
     "data": {
      "text/plain": [
       "0.7887323943661971"
      ]
     },
     "execution_count": 91,
     "metadata": {},
     "output_type": "execute_result"
    }
   ],
   "source": [
    "from sklearn.metrics import accuracy_score\n",
    "accuracy_score(m.predict(X_test), y_test)"
   ]
  },
  {
   "cell_type": "markdown",
   "id": "e171e697",
   "metadata": {},
   "source": [
    "Let's train a bigger model."
   ]
  },
  {
   "cell_type": "code",
   "execution_count": 92,
   "id": "549227af",
   "metadata": {},
   "outputs": [
    {
     "data": {
      "text/plain": [
       "DecisionTreeClassifier()"
      ]
     },
     "execution_count": 92,
     "metadata": {},
     "output_type": "execute_result"
    }
   ],
   "source": [
    "m = DecisionTreeClassifier()\n",
    "m.fit(X_train, y_train)"
   ]
  },
  {
   "cell_type": "code",
   "execution_count": 93,
   "id": "1fdc455a",
   "metadata": {},
   "outputs": [
    {
     "data": {
      "text/plain": [
       "1.0"
      ]
     },
     "execution_count": 93,
     "metadata": {},
     "output_type": "execute_result"
    }
   ],
   "source": [
    "m_accuracy(m, X_train, y_train)"
   ]
  },
  {
   "cell_type": "code",
   "execution_count": 94,
   "id": "b626a2c0",
   "metadata": {},
   "outputs": [
    {
     "data": {
      "text/plain": [
       "0.77465"
      ]
     },
     "execution_count": 94,
     "metadata": {},
     "output_type": "execute_result"
    }
   ],
   "source": [
    "m_accuracy(m, X_test, y_test)"
   ]
  },
  {
   "cell_type": "code",
   "execution_count": 95,
   "id": "4b83266c",
   "metadata": {},
   "outputs": [
    {
     "data": {
      "text/plain": [
       "(24, 250)"
      ]
     },
     "execution_count": 95,
     "metadata": {},
     "output_type": "execute_result"
    }
   ],
   "source": [
    "m.get_n_leaves(), len(X_train)"
   ]
  },
  {
   "cell_type": "markdown",
   "id": "9d6e7b51",
   "metadata": {},
   "source": [
    "In this case, it doesn't appear we're overfitting too badly. The validation accuracy has actually gone up since adding more leaves. Additionally, the number of leaves is nowhere near the number of training examples."
   ]
  },
  {
   "cell_type": "markdown",
   "id": "dd550666",
   "metadata": {},
   "source": [
    "## Random forest"
   ]
  },
  {
   "cell_type": "code",
   "execution_count": 96,
   "id": "ef767443",
   "metadata": {},
   "outputs": [],
   "source": [
    "def rf(xs, y, n_estimators=40, max_samples=250,\n",
    "       max_features=0.5, min_samples_leaf=5, **kwargs):\n",
    "    return RandomForestClassifier(n_jobs=-1, n_estimators=n_estimators,\n",
    "        max_samples=max_samples, max_features=max_features,\n",
    "        min_samples_leaf=min_samples_leaf, oob_score=True, warm_start=True).fit(xs, y)"
   ]
  },
  {
   "cell_type": "code",
   "execution_count": 97,
   "id": "928a3626",
   "metadata": {},
   "outputs": [
    {
     "data": {
      "text/plain": [
       "(0.96, 0.83099)"
      ]
     },
     "execution_count": 97,
     "metadata": {},
     "output_type": "execute_result"
    }
   ],
   "source": [
    "m = rf(X_train, y_train)\n",
    "m_accuracy(m, X_train, y_train), m_accuracy(m, X_test, y_test)"
   ]
  },
  {
   "cell_type": "markdown",
   "id": "f1dbfd13",
   "metadata": {},
   "source": [
    "Our validation RMSE is now much improved over our last result using a decision tree, which made just one tree using all the available data.\n",
    "\n",
    "To see the impact of `n_estimators`, let's get the predictions from each individual tree in our forest:"
   ]
  },
  {
   "cell_type": "code",
   "execution_count": 40,
   "id": "04b27d9d",
   "metadata": {},
   "outputs": [
    {
     "data": {
      "image/png": "[encoded data removed]",
      "text/plain": [
       "<Figure size 432x288 with 1 Axes>"
      ]
     },
     "metadata": {
      "needs_background": "light"
     },
     "output_type": "display_data"
    }
   ],
   "source": [
    "plt.plot([accuracy(preds[:i+1].mean(0), y_test) for i in range(100)]);"
   ]
  },
  {
   "cell_type": "markdown",
   "id": "59e2eeaa",
   "metadata": {},
   "source": [
    "### Tree variance"
   ]
  },
  {
   "cell_type": "code",
   "execution_count": 101,
   "id": "5f03e2c5",
   "metadata": {},
   "outputs": [
    {
     "data": {
      "text/plain": [
       "array([0, 0, 0, 0, 1, 1, 0, 1, 0, 0, 1, 1, 1, 1, 1, 1, 1, 0, 1, 1, 1, 0, 1, 0, 1, 1, 0, 0, 1, 1, 0, 1, 0, 1, 1, 0, 1, 0, 1, 0, 0, 0, 0, 1, 1, 0, 1, 1, 0, 1, 1, 1, 1, 1, 1, 0, 0, 0, 1, 0, 1, 0, 0, 1,\n",
       "       1, 0, 1, 0, 1, 1, 1])"
      ]
     },
     "execution_count": 101,
     "metadata": {},
     "output_type": "execute_result"
    }
   ],
   "source": [
    "m.predict(X_test)"
   ]
  },
  {
   "cell_type": "code",
   "execution_count": 102,
   "id": "02f408b0",
   "metadata": {},
   "outputs": [],
   "source": [
    "preds = np.stack([t.predict(X_test) for t in m.estimators_])"
   ]
  },
  {
   "cell_type": "code",
   "execution_count": 103,
   "id": "15f562d0",
   "metadata": {},
   "outputs": [
    {
     "data": {
      "text/plain": [
       "(40, 71)"
      ]
     },
     "execution_count": 103,
     "metadata": {},
     "output_type": "execute_result"
    }
   ],
   "source": [
    "preds.shape"
   ]
  },
  {
   "cell_type": "markdown",
   "id": "d088e263",
   "metadata": {},
   "source": [
    "Now we have a prediction for every tree and every patient (40 trees and 71 patients) in the validation set. Using this, we can get the standard deviation of the predictions over all the trees, for each patient:"
   ]
  },
  {
   "cell_type": "code",
   "execution_count": 107,
   "id": "ff9b6f9c",
   "metadata": {},
   "outputs": [
    {
     "data": {
      "text/plain": [
       "array([0.35707142, 0.        , 0.35707142, 0.        , 0.41758233, 0.15612495, 0.15612495, 0.3799671 , 0.4330127 , 0.        , 0.21794495, 0.35707142, 0.45825757, 0.15612495, 0.26339134, 0.35707142,\n",
       "       0.4769696 , 0.21794495, 0.        , 0.3799671 , 0.44651428, 0.46837485, 0.35707142, 0.        , 0.        , 0.3799671 , 0.        , 0.        , 0.33071891, 0.33071891, 0.3       , 0.26339134,\n",
       "       0.        , 0.21794495, 0.4       , 0.15612495, 0.        , 0.3799671 , 0.5       , 0.        , 0.        , 0.        , 0.        , 0.49937461, 0.48412292, 0.49937461, 0.494343  , 0.        ,\n",
       "       0.45825757, 0.        , 0.48412292, 0.15612495, 0.35707142, 0.4769696 , 0.33071891, 0.        , 0.        , 0.        , 0.        , 0.        , 0.26339134, 0.        , 0.41758233, 0.3799671 ,\n",
       "       0.4       , 0.26339134, 0.33071891, 0.4330127 , 0.41758233, 0.4       , 0.3799671 ])"
      ]
     },
     "execution_count": 107,
     "metadata": {},
     "output_type": "execute_result"
    }
   ],
   "source": [
    "preds_std = preds.std(0)\n",
    "preds_std"
   ]
  },
  {
   "cell_type": "markdown",
   "id": "f5fd3de9",
   "metadata": {},
   "source": [
    "As we can see, the confidence in the predictions varies widely. For some patients, there is no standard deviation, because all the trees agree. For others it's higher, as the trees don't agree. This information would be useful in a clinical-support setting; for instance, if tree variance was high for a particular patient, you would be wary of using the overall prediction in any clinical decision."
   ]
  },
  {
   "cell_type": "code",
   "execution_count": 108,
   "id": "f29edfac",
   "metadata": {},
   "outputs": [
    {
     "data": {
      "text/plain": [
       "0.24786740393801826"
      ]
     },
     "execution_count": 108,
     "metadata": {},
     "output_type": "execute_result"
    }
   ],
   "source": [
    "np.mean(preds_std)"
   ]
  },
  {
   "cell_type": "markdown",
   "id": "8f7a345a",
   "metadata": {},
   "source": [
    "### Feature importance"
   ]
  },
  {
   "cell_type": "code",
   "execution_count": 98,
   "id": "a5260106",
   "metadata": {},
   "outputs": [],
   "source": [
    "def rf_feat_importance(m, df):\n",
    "    return pd.DataFrame({'cols': df.columns, 'imp':m.feature_importances_}\n",
    "                       ).sort_values('imp', ascending=False)"
   ]
  },
  {
   "cell_type": "code",
   "execution_count": 99,
   "id": "2b360b18",
   "metadata": {},
   "outputs": [
    {
     "data": {
      "text/html": [
       "<div>\n",
       "<style scoped>\n",
       "    .dataframe tbody tr th:only-of-type {\n",
       "        vertical-align: middle;\n",
       "    }\n",
       "\n",
       "    .dataframe tbody tr th {\n",
       "        vertical-align: top;\n",
       "    }\n",
       "\n",
       "    .dataframe thead th {\n",
       "        text-align: right;\n",
       "    }\n",
       "</style>\n",
       "<table border=\"1\" class=\"dataframe\">\n",
       "  <thead>\n",
       "    <tr style=\"text-align: right;\">\n",
       "      <th></th>\n",
       "      <th>cols</th>\n",
       "      <th>imp</th>\n",
       "    </tr>\n",
       "  </thead>\n",
       "  <tbody>\n",
       "    <tr>\n",
       "      <th>1</th>\n",
       "      <td>time_above_baseline</td>\n",
       "      <td>0.341497</td>\n",
       "    </tr>\n",
       "    <tr>\n",
       "      <th>2</th>\n",
       "      <td>peak_visual_improvement</td>\n",
       "      <td>0.306271</td>\n",
       "    </tr>\n",
       "    <tr>\n",
       "      <th>6</th>\n",
       "      <td>time_since_starting</td>\n",
       "      <td>0.114199</td>\n",
       "    </tr>\n",
       "    <tr>\n",
       "      <th>3</th>\n",
       "      <td>time_to_peak</td>\n",
       "      <td>0.093326</td>\n",
       "    </tr>\n",
       "    <tr>\n",
       "      <th>5</th>\n",
       "      <td>visits</td>\n",
       "      <td>0.077117</td>\n",
       "    </tr>\n",
       "    <tr>\n",
       "      <th>0</th>\n",
       "      <td>mean_vision</td>\n",
       "      <td>0.041221</td>\n",
       "    </tr>\n",
       "    <tr>\n",
       "      <th>4</th>\n",
       "      <td>baseline</td>\n",
       "      <td>0.024731</td>\n",
       "    </tr>\n",
       "    <tr>\n",
       "      <th>7</th>\n",
       "      <td>boronia</td>\n",
       "      <td>0.001608</td>\n",
       "    </tr>\n",
       "    <tr>\n",
       "      <th>8</th>\n",
       "      <td>box_hill</td>\n",
       "      <td>0.000030</td>\n",
       "    </tr>\n",
       "  </tbody>\n",
       "</table>\n",
       "</div>"
      ],
      "text/plain": [
       "                      cols       imp\n",
       "1      time_above_baseline  0.341497\n",
       "2  peak_visual_improvement  0.306271\n",
       "6      time_since_starting  0.114199\n",
       "3             time_to_peak  0.093326\n",
       "5                   visits  0.077117\n",
       "0              mean_vision  0.041221\n",
       "4                 baseline  0.024731\n",
       "7                  boronia  0.001608\n",
       "8                 box_hill  0.000030"
      ]
     },
     "execution_count": 99,
     "metadata": {},
     "output_type": "execute_result"
    }
   ],
   "source": [
    "fi = rf_feat_importance(m, X_train)\n",
    "fi"
   ]
  },
  {
   "cell_type": "code",
   "execution_count": 100,
   "id": "27446a16",
   "metadata": {},
   "outputs": [
    {
     "data": {
      "image/png": "[encoded data removed]",
      "text/plain": [
       "<Figure size 864x504 with 1 Axes>"
      ]
     },
     "metadata": {
      "needs_background": "light"
     },
     "output_type": "display_data"
    }
   ],
   "source": [
    "def plot_fi(fi):\n",
    "    return fi.plot('cols', 'imp', 'barh', figsize=(12,7), legend=False)\n",
    "\n",
    "plot_fi(fi[:30]);"
   ]
  },
  {
   "cell_type": "markdown",
   "id": "ed1a6c15",
   "metadata": {},
   "source": [
    "### Partial dependence"
   ]
  },
  {
   "cell_type": "code",
   "execution_count": 111,
   "id": "bb58b43e",
   "metadata": {},
   "outputs": [
    {
     "data": {
      "image/png": "[encoded data removed]",
      "text/plain": [
       "<Figure size 864x288 with 3 Axes>"
      ]
     },
     "metadata": {
      "needs_background": "light"
     },
     "output_type": "display_data"
    }
   ],
   "source": [
    "from sklearn.inspection import plot_partial_dependence\n",
    "\n",
    "fig,ax = plt.subplots(figsize=(12, 4))\n",
    "plot_partial_dependence(m, X_train, ['peak_visual_improvement','time_since_starting'],\n",
    "                        grid_resolution=20, ax=ax);"
   ]
  },
  {
   "cell_type": "markdown",
   "id": "ce3e439d",
   "metadata": {},
   "source": [
    "### Redundant features"
   ]
  },
  {
   "cell_type": "code",
   "execution_count": 109,
   "id": "e64e5cdb",
   "metadata": {},
   "outputs": [
    {
     "data": {
      "image/png": "[encoded data removed]",
      "text/plain": [
       "<Figure size 720x432 with 1 Axes>"
      ]
     },
     "metadata": {
      "needs_background": "light"
     },
     "output_type": "display_data"
    }
   ],
   "source": [
    "cluster_columns(X_train)"
   ]
  },
  {
   "cell_type": "markdown",
   "id": "d62371ee",
   "metadata": {},
   "source": [
    "### How do certain factors influence prediction"
   ]
  },
  {
   "cell_type": "code",
   "execution_count": 112,
   "id": "7493163b",
   "metadata": {},
   "outputs": [],
   "source": [
    "import warnings\n",
    "warnings.simplefilter('ignore', FutureWarning)\n",
    "\n",
    "from treeinterpreter import treeinterpreter\n",
    "from waterfall_chart import plot as waterfall"
   ]
  },
  {
   "cell_type": "code",
   "execution_count": 113,
   "id": "65fed62a",
   "metadata": {},
   "outputs": [],
   "source": [
    "row = X_test.iloc[:5]"
   ]
  },
  {
   "cell_type": "code",
   "execution_count": 114,
   "id": "a4678f58",
   "metadata": {},
   "outputs": [],
   "source": [
    "prediction,bias,contributions = treeinterpreter.predict(m, row.values)"
   ]
  },
  {
   "cell_type": "code",
   "execution_count": 128,
   "id": "178d7009",
   "metadata": {},
   "outputs": [
    {
     "data": {
      "text/plain": [
       "array([[ 0.00173179, -0.00173179],\n",
       "       [ 0.16469447, -0.16469447],\n",
       "       [ 0.15464208, -0.15464208],\n",
       "       [ 0.06682314, -0.06682314],\n",
       "       [ 0.00940637, -0.00940637],\n",
       "       [ 0.01015561, -0.01015561],\n",
       "       [ 0.00550368, -0.00550368],\n",
       "       [ 0.        ,  0.        ],\n",
       "       [ 0.        ,  0.        ]])"
      ]
     },
     "execution_count": 128,
     "metadata": {},
     "output_type": "execute_result"
    }
   ],
   "source": [
    "a = contributions[1]\n",
    "a"
   ]
  },
  {
   "cell_type": "code",
   "execution_count": 131,
   "id": "b27cd890",
   "metadata": {},
   "outputs": [],
   "source": [
    "b = [0.00173179, 0.16469447, 0.15464208,\n",
    "     0.06682314, 0.00940637, 0.01015561, \n",
    "     0.00550368, 0.0, 0.0]"
   ]
  },
  {
   "cell_type": "code",
   "execution_count": 123,
   "id": "78b8eab1",
   "metadata": {},
   "outputs": [
    {
     "data": {
      "text/plain": [
       "(array([0.99285714, 0.00714286]),\n",
       " array([0.5799, 0.4201]),\n",
       " -1.734723475976807e-18)"
      ]
     },
     "execution_count": 123,
     "metadata": {},
     "output_type": "execute_result"
    }
   ],
   "source": [
    "prediction[1], bias[1], contributions[1].sum()"
   ]
  },
  {
   "cell_type": "code",
   "execution_count": 132,
   "id": "a88655d1",
   "metadata": {},
   "outputs": [
    {
     "data": {
      "image/png": "[encoded data removed]",
      "text/plain": [
       "<Figure size 432x288 with 1 Axes>"
      ]
     },
     "metadata": {
      "needs_background": "light"
     },
     "output_type": "display_data"
    }
   ],
   "source": [
    "waterfall(X_test.columns, b, threshold=0.001, \n",
    "          rotation_value=45,formatting='{:,.3f}');"
   ]
  },
  {
   "cell_type": "markdown",
   "id": "ae7f89dd",
   "metadata": {},
   "source": [
    "## Neural net"
   ]
  },
  {
   "cell_type": "markdown",
   "id": "d1524125",
   "metadata": {},
   "source": [
    "Sometimes it is hard to know whether your test set is distributed in the same way as your training data, or, if it is different, what columns reflect that difference. There's actually an easy way to figure this out, which is to use a random forest!\n",
    "\n",
    "But in this case we don't use the random forest to predict our actual dependent variable. Instead, we try to predict whether a row is in the validation set or the training set. To see this in action, let's combine our training and validation sets together, create a dependent variable that represents which dataset each row comes from, build a random forest using that data, and get its feature importance:"
   ]
  },
  {
   "cell_type": "code",
   "execution_count": 10,
   "id": "bfa7e934",
   "metadata": {},
   "outputs": [
    {
     "ename": "NameError",
     "evalue": "name 'rf' is not defined",
     "output_type": "error",
     "traceback": [
      "\u001b[0;31m---------------------------------------------------------------------------\u001b[0m",
      "\u001b[0;31mNameError\u001b[0m                                 Traceback (most recent call last)",
      "\u001b[0;32m<ipython-input-10-a948cdfe4de4>\u001b[0m in \u001b[0;36m<module>\u001b[0;34m\u001b[0m\n\u001b[1;32m      2\u001b[0m \u001b[0mis_valid\u001b[0m \u001b[0;34m=\u001b[0m \u001b[0mnp\u001b[0m\u001b[0;34m.\u001b[0m\u001b[0marray\u001b[0m\u001b[0;34m(\u001b[0m\u001b[0;34m[\u001b[0m\u001b[0;36m0\u001b[0m\u001b[0;34m]\u001b[0m\u001b[0;34m*\u001b[0m\u001b[0mlen\u001b[0m\u001b[0;34m(\u001b[0m\u001b[0mX_train\u001b[0m\u001b[0;34m)\u001b[0m \u001b[0;34m+\u001b[0m \u001b[0;34m[\u001b[0m\u001b[0;36m1\u001b[0m\u001b[0;34m]\u001b[0m\u001b[0;34m*\u001b[0m\u001b[0mlen\u001b[0m\u001b[0;34m(\u001b[0m\u001b[0mX_test\u001b[0m\u001b[0;34m)\u001b[0m\u001b[0;34m)\u001b[0m\u001b[0;34m\u001b[0m\u001b[0;34m\u001b[0m\u001b[0m\n\u001b[1;32m      3\u001b[0m \u001b[0;34m\u001b[0m\u001b[0m\n\u001b[0;32m----> 4\u001b[0;31m \u001b[0mm\u001b[0m \u001b[0;34m=\u001b[0m \u001b[0mrf\u001b[0m\u001b[0;34m(\u001b[0m\u001b[0mdf_dom\u001b[0m\u001b[0;34m,\u001b[0m \u001b[0mis_valid\u001b[0m\u001b[0;34m)\u001b[0m\u001b[0;34m\u001b[0m\u001b[0;34m\u001b[0m\u001b[0m\n\u001b[0m\u001b[1;32m      5\u001b[0m \u001b[0mrf_feat_importance\u001b[0m\u001b[0;34m(\u001b[0m\u001b[0mm\u001b[0m\u001b[0;34m,\u001b[0m \u001b[0mdf_dom\u001b[0m\u001b[0;34m)\u001b[0m\u001b[0;34m[\u001b[0m\u001b[0;34m:\u001b[0m\u001b[0;36m6\u001b[0m\u001b[0;34m]\u001b[0m\u001b[0;34m\u001b[0m\u001b[0;34m\u001b[0m\u001b[0m\n",
      "\u001b[0;31mNameError\u001b[0m: name 'rf' is not defined"
     ]
    }
   ],
   "source": [
    "df_dom = pd.concat([X_train, X_test])\n",
    "is_valid = np.array([0]*len(X_train) + [1]*len(X_test))\n",
    "\n",
    "m = rf(df_dom, is_valid)\n",
    "rf_feat_importance(m, df_dom)[:6]"
   ]
  },
  {
   "cell_type": "code",
   "execution_count": 4,
   "id": "61570afd",
   "metadata": {},
   "outputs": [
    {
     "data": {
      "text/plain": [
       "Index(['mean_vision', 'time_above_baseline', 'peak_visual_improvement',\n",
       "       'time_to_peak', 'baseline', 'visits', 'time_since_starting', 'location',\n",
       "       'id', 'outcome'],\n",
       "      dtype='object')"
      ]
     },
     "execution_count": 4,
     "metadata": {},
     "output_type": "execute_result"
    }
   ],
   "source": [
    "df_nn = pd.read_csv('/home/jupyter/charliemacuject/research_papers/dme/input/df_features.csv', low_memory=False)\n",
    "df_nn.drop(columns=['Unnamed: 0', 'overall_visual_change'], inplace=True)\n",
    "df_nn.columns"
   ]
  },
  {
   "cell_type": "code",
   "execution_count": 5,
   "id": "8e0d5dc8",
   "metadata": {},
   "outputs": [],
   "source": [
    "df_nn.outcome = df_nn.outcome + 1"
   ]
  },
  {
   "cell_type": "code",
   "execution_count": 6,
   "id": "de663cee",
   "metadata": {},
   "outputs": [],
   "source": [
    "splits = RandomSplitter(valid_pct=0.2)(range_of(df_nn))"
   ]
  },
  {
   "cell_type": "code",
   "execution_count": 7,
   "id": "95ad0bb0",
   "metadata": {},
   "outputs": [],
   "source": [
    "df_nn.drop(columns=['id'], inplace=True)"
   ]
  },
  {
   "cell_type": "code",
   "execution_count": 8,
   "id": "d124b90b",
   "metadata": {},
   "outputs": [],
   "source": [
    "dep_var = 'outcome'"
   ]
  },
  {
   "cell_type": "code",
   "execution_count": 9,
   "id": "fd164245",
   "metadata": {},
   "outputs": [],
   "source": [
    "cont_nn,cat_nn = cont_cat_split(df_nn, max_card=9000, dep_var=dep_var)"
   ]
  },
  {
   "cell_type": "code",
   "execution_count": 10,
   "id": "b5cc53d8",
   "metadata": {},
   "outputs": [
    {
     "data": {
      "text/plain": [
       "['mean_vision', 'peak_visual_improvement', 'baseline']"
      ]
     },
     "execution_count": 10,
     "metadata": {},
     "output_type": "execute_result"
    }
   ],
   "source": [
    "cont_nn"
   ]
  },
  {
   "cell_type": "code",
   "execution_count": 11,
   "id": "97f8e658",
   "metadata": {},
   "outputs": [
    {
     "data": {
      "text/plain": [
       "['time_above_baseline',\n",
       " 'time_to_peak',\n",
       " 'visits',\n",
       " 'time_since_starting',\n",
       " 'location']"
      ]
     },
     "execution_count": 11,
     "metadata": {},
     "output_type": "execute_result"
    }
   ],
   "source": [
    "cat_nn"
   ]
  },
  {
   "cell_type": "code",
   "execution_count": 12,
   "id": "cbcff68e",
   "metadata": {},
   "outputs": [],
   "source": [
    "cont_nn.extend(['time_above_baseline',\n",
    " 'time_to_peak',\n",
    " 'visits',\n",
    " 'time_since_starting'])"
   ]
  },
  {
   "cell_type": "code",
   "execution_count": 13,
   "id": "cf7b367e",
   "metadata": {},
   "outputs": [
    {
     "data": {
      "text/plain": [
       "['mean_vision',\n",
       " 'peak_visual_improvement',\n",
       " 'baseline',\n",
       " 'time_above_baseline',\n",
       " 'time_to_peak',\n",
       " 'visits',\n",
       " 'time_since_starting']"
      ]
     },
     "execution_count": 13,
     "metadata": {},
     "output_type": "execute_result"
    }
   ],
   "source": [
    "cont_nn"
   ]
  },
  {
   "cell_type": "code",
   "execution_count": 14,
   "id": "8ed2a14d",
   "metadata": {},
   "outputs": [],
   "source": [
    "cat_nn = ['location']"
   ]
  },
  {
   "cell_type": "code",
   "execution_count": 15,
   "id": "47d60d11",
   "metadata": {},
   "outputs": [
    {
     "data": {
      "text/html": [
       "<div>\n",
       "<style scoped>\n",
       "    .dataframe tbody tr th:only-of-type {\n",
       "        vertical-align: middle;\n",
       "    }\n",
       "\n",
       "    .dataframe tbody tr th {\n",
       "        vertical-align: top;\n",
       "    }\n",
       "\n",
       "    .dataframe thead th {\n",
       "        text-align: right;\n",
       "    }\n",
       "</style>\n",
       "<table border=\"1\" class=\"dataframe\">\n",
       "  <thead>\n",
       "    <tr style=\"text-align: right;\">\n",
       "      <th></th>\n",
       "      <th>mean_vision</th>\n",
       "      <th>time_above_baseline</th>\n",
       "      <th>peak_visual_improvement</th>\n",
       "      <th>time_to_peak</th>\n",
       "      <th>baseline</th>\n",
       "      <th>visits</th>\n",
       "      <th>time_since_starting</th>\n",
       "      <th>location</th>\n",
       "      <th>outcome</th>\n",
       "    </tr>\n",
       "  </thead>\n",
       "  <tbody>\n",
       "    <tr>\n",
       "      <th>0</th>\n",
       "      <td>70.064516</td>\n",
       "      <td>0</td>\n",
       "      <td>0.0</td>\n",
       "      <td>0</td>\n",
       "      <td>76.0</td>\n",
       "      <td>31</td>\n",
       "      <td>1532</td>\n",
       "      <td>box_hill</td>\n",
       "      <td>1</td>\n",
       "    </tr>\n",
       "    <tr>\n",
       "      <th>1</th>\n",
       "      <td>71.062500</td>\n",
       "      <td>0</td>\n",
       "      <td>0.0</td>\n",
       "      <td>0</td>\n",
       "      <td>85.0</td>\n",
       "      <td>16</td>\n",
       "      <td>1156</td>\n",
       "      <td>box_hill</td>\n",
       "      <td>1</td>\n",
       "    </tr>\n",
       "    <tr>\n",
       "      <th>2</th>\n",
       "      <td>72.562500</td>\n",
       "      <td>0</td>\n",
       "      <td>0.0</td>\n",
       "      <td>0</td>\n",
       "      <td>85.0</td>\n",
       "      <td>16</td>\n",
       "      <td>1156</td>\n",
       "      <td>box_hill</td>\n",
       "      <td>1</td>\n",
       "    </tr>\n",
       "    <tr>\n",
       "      <th>3</th>\n",
       "      <td>77.448276</td>\n",
       "      <td>2036</td>\n",
       "      <td>20.0</td>\n",
       "      <td>987</td>\n",
       "      <td>65.0</td>\n",
       "      <td>29</td>\n",
       "      <td>2036</td>\n",
       "      <td>box_hill</td>\n",
       "      <td>2</td>\n",
       "    </tr>\n",
       "    <tr>\n",
       "      <th>4</th>\n",
       "      <td>73.689655</td>\n",
       "      <td>225</td>\n",
       "      <td>4.0</td>\n",
       "      <td>1829</td>\n",
       "      <td>76.0</td>\n",
       "      <td>29</td>\n",
       "      <td>2036</td>\n",
       "      <td>box_hill</td>\n",
       "      <td>2</td>\n",
       "    </tr>\n",
       "  </tbody>\n",
       "</table>\n",
       "</div>"
      ],
      "text/plain": [
       "   mean_vision  time_above_baseline  peak_visual_improvement  time_to_peak  \\\n",
       "0    70.064516                    0                      0.0             0   \n",
       "1    71.062500                    0                      0.0             0   \n",
       "2    72.562500                    0                      0.0             0   \n",
       "3    77.448276                 2036                     20.0           987   \n",
       "4    73.689655                  225                      4.0          1829   \n",
       "\n",
       "   baseline  visits  time_since_starting  location  outcome  \n",
       "0      76.0      31                 1532  box_hill        1  \n",
       "1      85.0      16                 1156  box_hill        1  \n",
       "2      85.0      16                 1156  box_hill        1  \n",
       "3      65.0      29                 2036  box_hill        2  \n",
       "4      76.0      29                 2036  box_hill        2  "
      ]
     },
     "execution_count": 15,
     "metadata": {},
     "output_type": "execute_result"
    }
   ],
   "source": [
    "df_nn.head()"
   ]
  },
  {
   "cell_type": "code",
   "execution_count": 63,
   "id": "ad03d117",
   "metadata": {},
   "outputs": [],
   "source": [
    "procs_nn = [Categorify, FillMissing, Normalize]\n",
    "to_nn = TabularPandas(df_nn, procs_nn, cat_nn, cont_nn,\n",
    "                      splits=splits, y_names=dep_var, \n",
    "                      y_block = CategoryBlock())"
   ]
  },
  {
   "cell_type": "code",
   "execution_count": 64,
   "id": "70868922",
   "metadata": {},
   "outputs": [],
   "source": [
    "dls=to_nn.dataloaders(256)"
   ]
  },
  {
   "cell_type": "code",
   "execution_count": 65,
   "id": "d9aa3385",
   "metadata": {},
   "outputs": [],
   "source": [
    "learn = tabular_learner(dls, metrics=accuracy)"
   ]
  },
  {
   "cell_type": "code",
   "execution_count": 70,
   "id": "6cf910b0",
   "metadata": {},
   "outputs": [
    {
     "data": {
      "text/html": [
       "<table border=\"1\" class=\"dataframe\">\n",
       "  <thead>\n",
       "    <tr style=\"text-align: left;\">\n",
       "      <th>epoch</th>\n",
       "      <th>train_loss</th>\n",
       "      <th>valid_loss</th>\n",
       "      <th>accuracy</th>\n",
       "      <th>time</th>\n",
       "    </tr>\n",
       "  </thead>\n",
       "  <tbody>\n",
       "    <tr>\n",
       "      <td>0</td>\n",
       "      <td>0.235023</td>\n",
       "      <td>0.483030</td>\n",
       "      <td>0.781250</td>\n",
       "      <td>00:00</td>\n",
       "    </tr>\n",
       "    <tr>\n",
       "      <td>1</td>\n",
       "      <td>0.232499</td>\n",
       "      <td>0.426744</td>\n",
       "      <td>0.812500</td>\n",
       "      <td>00:00</td>\n",
       "    </tr>\n",
       "    <tr>\n",
       "      <td>2</td>\n",
       "      <td>0.220586</td>\n",
       "      <td>0.399013</td>\n",
       "      <td>0.812500</td>\n",
       "      <td>00:00</td>\n",
       "    </tr>\n",
       "  </tbody>\n",
       "</table>"
      ],
      "text/plain": [
       "<IPython.core.display.HTML object>"
      ]
     },
     "metadata": {},
     "output_type": "display_data"
    },
    {
     "data": {
      "image/png": "[encoded data removed]",
      "text/plain": [
       "<Figure size 432x288 with 1 Axes>"
      ]
     },
     "metadata": {},
     "output_type": "display_data"
    }
   ],
   "source": [
    "learn.fit_one_cycle(3, 1e-2,cbs=[ShowGraphCallback()])"
   ]
  },
  {
   "cell_type": "code",
   "execution_count": 71,
   "id": "e4bd4cb1",
   "metadata": {},
   "outputs": [],
   "source": [
    "@patch\n",
    "@delegates(subplots)\n",
    "def plot_metrics(self: Recorder, nrows=None, ncols=None, figsize=None, **kwargs):\n",
    "    metrics = np.stack(self.values)\n",
    "    names = self.metric_names[1:-1]\n",
    "    n = len(names) - 1\n",
    "    if nrows is None and ncols is None:\n",
    "        nrows = int(math.sqrt(n))\n",
    "        ncols = int(np.ceil(n / nrows))\n",
    "    elif nrows is None: nrows = int(np.ceil(n / ncols))\n",
    "    elif ncols is None: ncols = int(np.ceil(n / nrows))\n",
    "    figsize = figsize or (ncols * 6, nrows * 4)\n",
    "    fig, axs = subplots(nrows, ncols, figsize=figsize, **kwargs)\n",
    "    axs = [ax if i < n else ax.set_axis_off() for i, ax in enumerate(axs.flatten())][:n]\n",
    "    for i, (name, ax) in enumerate(zip(names, [axs[0]] + axs)):\n",
    "        ax.plot(metrics[:, i], color='#1f77b4' if i == 0 else '#ff7f0e', label='valid' if i > 0 else 'train')\n",
    "        ax.set_title(name if i > 1 else 'losses')\n",
    "        ax.legend(loc='best')\n",
    "    plt.show()"
   ]
  },
  {
   "cell_type": "code",
   "execution_count": 72,
   "id": "726d3b22",
   "metadata": {},
   "outputs": [
    {
     "data": {
      "image/png": "[encoded data removed]",
      "text/plain": [
       "<Figure size 864x288 with 2 Axes>"
      ]
     },
     "metadata": {
      "needs_background": "light"
     },
     "output_type": "display_data"
    }
   ],
   "source": [
    "learn.recorder.plot_metrics()"
   ]
  },
  {
   "cell_type": "code",
   "execution_count": null,
   "id": "fef0f6b2",
   "metadata": {},
   "outputs": [],
   "source": []
  }
 ],
 "metadata": {
  "environment": {
   "name": "common-cu110.m74",
   "type": "gcloud",
   "uri": "gcr.io/deeplearning-platform-release/base-cu110:m74"
  },
  "kernelspec": {
   "display_name": "Python 3",
   "language": "python",
   "name": "python3"
  },
  "language_info": {
   "codemirror_mode": {
    "name": "ipython",
    "version": 3
   },
   "file_extension": ".py",
   "mimetype": "text/x-python",
   "name": "python",
   "nbconvert_exporter": "python",
   "pygments_lexer": "ipython3",
   "version": "3.7.10"
  }
 },
 "nbformat": 4,
 "nbformat_minor": 5
}
