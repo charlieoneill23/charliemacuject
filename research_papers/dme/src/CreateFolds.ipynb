{
 "cells": [
  {
   "cell_type": "code",
   "execution_count": 2,
   "id": "2a015518",
   "metadata": {},
   "outputs": [],
   "source": [
    "import pandas as pd\n",
    "from sklearn import model_selection\n",
    "    \n",
    "# get the training data\n",
    "df = pd.read_csv('/home/jupyter/charliemacuject/research_papers/dme/input/df_train.csv')\n",
    "\n",
    "# create a column called kfold and fill it with -1\n",
    "df['kfold'] = -1\n",
    "df = df.sample(frac=1).reset_index(drop=True)\n",
    "kf = model_selection.KFold(n_splits=5)\n",
    "    \n",
    "# fill the new kfold column\n",
    "for fold, (trn_, val_) in enumerate(kf.split(X=df)):\n",
    "    df.loc[val_, 'kfold'] = fold\n",
    "\n",
    "# save the new csv with kfold column\n",
    "df.to_csv('/home/jupyter/charliemacuject/research_papers/dme/input/df_train_folds.csv', \n",
    "          index=False)"
   ]
  },
  {
   "cell_type": "code",
   "execution_count": 4,
   "id": "24b07f29",
   "metadata": {},
   "outputs": [
    {
     "data": {
      "text/plain": [
       "array([0, 1, 2, 3, 4])"
      ]
     },
     "execution_count": 4,
     "metadata": {},
     "output_type": "execute_result"
    }
   ],
   "source": [
    "df.kfold.unique()"
   ]
  },
  {
   "cell_type": "code",
   "execution_count": null,
   "id": "f55274a6",
   "metadata": {},
   "outputs": [],
   "source": []
  }
 ],
 "metadata": {
  "environment": {
   "name": "common-cu110.m74",
   "type": "gcloud",
   "uri": "gcr.io/deeplearning-platform-release/base-cu110:m74"
  },
  "kernelspec": {
   "display_name": "Python 3",
   "language": "python",
   "name": "python3"
  },
  "language_info": {
   "codemirror_mode": {
    "name": "ipython",
    "version": 3
   },
   "file_extension": ".py",
   "mimetype": "text/x-python",
   "name": "python",
   "nbconvert_exporter": "python",
   "pygments_lexer": "ipython3",
   "version": "3.7.10"
  }
 },
 "nbformat": 4,
 "nbformat_minor": 5
}
